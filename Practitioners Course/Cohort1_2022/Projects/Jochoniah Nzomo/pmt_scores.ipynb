{
 "cells": [
  {
   "cell_type": "markdown",
   "metadata": {},
   "source": [
    "## Using PMT scores to classify marginalised households at risk of not realizing UHC. Context of distance to facility\n",
    "\n",
    "According to World Health Organisation, UHC means that all individuals and communities receive the health services they need without suffering financial consequences. It includes the full spectrum of essential health services, from health promotion to prevention, treatment, rehabilitation, and palliative treatment across the life course. Financial consequences is attributed to factors like distance to health facility, payment for health care services. In our context, we will seek to understand how financially vulnerable are the following categories of households when seeking health services. We consider the kenya policy that all households must be within 5 kilometers of radius to their nearest health facility.\n"
   ]
  },
  {
   "cell_type": "code",
   "execution_count": 64,
   "metadata": {},
   "outputs": [],
   "source": [
    "import psycopg2\n",
    "import pandas as pd\n",
    "import datetime"
   ]
  },
  {
   "cell_type": "code",
   "execution_count": 65,
   "metadata": {},
   "outputs": [],
   "source": [
    "host = \"Enter host name here\"\n",
    "username = 'Enter username here'\n",
    "password = 'Enter password here'"
   ]
  },
  {
   "cell_type": "code",
   "execution_count": 66,
   "metadata": {},
   "outputs": [],
   "source": [
    "def get_db_connection(host,username,password):\n",
    "    conn = psycopg2.connect(\n",
    "        host= host,\n",
    "        database= \"mjalidataexploration\",\n",
    "        user= username,\n",
    "        password= password)\n",
    "    return conn"
   ]
  },
  {
   "cell_type": "code",
   "execution_count": 67,
   "metadata": {},
   "outputs": [],
   "source": [
    "conn = get_db_connection(host,username,password)\n",
    "cur = conn.cursor()"
   ]
  },
  {
   "cell_type": "markdown",
   "metadata": {},
   "source": [
    "### Selecting and cleaning the proxies to use\n",
    "\n",
    "#### 1. Select datapoints from the National_safety_programme_net table\n",
    "\n",
    "1. hhid - Household ID\n",
    "2. Villagenumber\n",
    "3. membernumber\n",
    "4. maritalstatus\n",
    "5. urbanconstantfigure\n",
    "6. thehigheststdorformreached\n",
    "7. mainlydoingduringlastsevendays\n",
    "8. ruralconstantfigure\n",
    "9. nairobiconstantfigure\n",
    "10. weight_status"
   ]
  },
  {
   "cell_type": "code",
   "execution_count": 68,
   "metadata": {},
   "outputs": [
    {
     "name": "stdout",
     "output_type": "stream",
     "text": [
      "CPU times: total: 4.66 s\n",
      "Wall time: 2min 13s\n"
     ]
    }
   ],
   "source": [
    "%%time\n",
    "cur.execute('SELECT hhid, membernumber, maritalstatus, thehigheststdorformreached, villagenumber, urbanconstantfigure, ruralconstantfigure, nairobiurbanconstantfigure, mainlydoingduringlastsevendays, weight_status from national_safety_programme_net')\n",
    "df_nspn = cur.fetchall()\n",
    "df_nspn = pd.DataFrame(df_nspn)\n",
    "df_nspn.columns = ['hh_id', 'member_number','marital_status','max_education','village_number','urban_constant_figure','rural_constant_figure','nairobi_constant_figure','past_week_activity','weight_status']"
   ]
  },
  {
   "cell_type": "markdown",
   "metadata": {},
   "source": [
    "###### check for marital status"
   ]
  },
  {
   "cell_type": "code",
   "execution_count": 6,
   "metadata": {},
   "outputs": [
    {
     "name": "stdout",
     "output_type": "stream",
     "text": [
      "CPU times: total: 203 ms\n",
      "Wall time: 231 ms\n"
     ]
    }
   ],
   "source": [
    "%%time\n",
    "# Marital status data check.\n",
    "def check_unknown(x):\n",
    "    if((x=='--select--')| (x=='Dont Know')):\n",
    "        return 'Unknown'\n",
    "    else:\n",
    "        return x\n",
    "    \n",
    "df_nspn['marital_status'] = df_nspn['marital_status'].apply(check_unknown)"
   ]
  },
  {
   "cell_type": "markdown",
   "metadata": {},
   "source": [
    "###### check for education levels"
   ]
  },
  {
   "cell_type": "code",
   "execution_count": 7,
   "metadata": {},
   "outputs": [
    {
     "data": {
      "text/plain": [
       "Pre-Primary    385330\n",
       "Secondary      106440\n",
       "                37329\n",
       "University       7876\n",
       "No                  2\n",
       "Yes                 1\n",
       "Name: max_education, dtype: int64"
      ]
     },
     "metadata": {},
     "output_type": "display_data"
    },
    {
     "name": "stdout",
     "output_type": "stream",
     "text": [
      "CPU times: total: 297 ms\n",
      "Wall time: 290 ms\n"
     ]
    }
   ],
   "source": [
    "%%time\n",
    "\n",
    "# Education level data check\n",
    "display(df_nspn['max_education'].value_counts())\n",
    "\n",
    "\n",
    "def check_education(x):\n",
    "    if((x=='') | (x=='Yes')|(x=='No')):\n",
    "        return 'Unknown'\n",
    "    else:\n",
    "        return x\n",
    "    \n",
    "df_nspn['max_education'] = df_nspn['max_education'].apply(check_education)"
   ]
  },
  {
   "cell_type": "markdown",
   "metadata": {},
   "source": [
    "###### Check for weighted status"
   ]
  },
  {
   "cell_type": "code",
   "execution_count": 8,
   "metadata": {},
   "outputs": [
    {
     "data": {
      "text/plain": [
       "Rural            429867\n",
       "Urban            102023\n",
       "                   4565\n",
       "Nairobi Urban       522\n",
       "Name: weight_status, dtype: int64"
      ]
     },
     "metadata": {},
     "output_type": "display_data"
    },
    {
     "name": "stdout",
     "output_type": "stream",
     "text": [
      "CPU times: total: 203 ms\n",
      "Wall time: 199 ms\n"
     ]
    }
   ],
   "source": [
    "%%time\n",
    "\n",
    "# Weight-status level data check\n",
    "display(df_nspn['weight_status'].value_counts())\n",
    "\n",
    "\n",
    "def check_weight(x):\n",
    "    if(x==''):\n",
    "        return 'Unknown'\n",
    "    else:\n",
    "        return x\n",
    "    \n",
    "df_nspn['weight_status'] = df_nspn['weight_status'].apply(check_weight)"
   ]
  },
  {
   "cell_type": "code",
   "execution_count": 9,
   "metadata": {},
   "outputs": [
    {
     "data": {
      "text/plain": [
       "Rural            429867\n",
       "Urban            102023\n",
       "Unknown            4565\n",
       "Nairobi Urban       522\n",
       "Name: weight_status, dtype: int64"
      ]
     },
     "execution_count": 9,
     "metadata": {},
     "output_type": "execute_result"
    }
   ],
   "source": [
    "df_nspn['weight_status'].value_counts()"
   ]
  },
  {
   "cell_type": "markdown",
   "metadata": {},
   "source": [
    "###### Check data for employment status"
   ]
  },
  {
   "cell_type": "code",
   "execution_count": 10,
   "metadata": {},
   "outputs": [
    {
     "name": "stdout",
     "output_type": "stream",
     "text": [
      "CPU times: total: 156 ms\n",
      "Wall time: 161 ms\n"
     ]
    }
   ],
   "source": [
    "%%time\n",
    "\n",
    "def check_employment(x):\n",
    "    if(x in ['Worked own or at family business or at family agriculture','Apprentice/Intern',\n",
    "              'Volunteer','Worked for pay','On leave','Sick leave']):\n",
    "        return 'Employed'\n",
    "    \n",
    "    else:\n",
    "        if(x=='--select--'):\n",
    "            return 'Unknown'\n",
    "        \n",
    "        else:\n",
    "            return 'Not Employed'\n",
    "    \n",
    "df_nspn['employment'] = df_nspn['past_week_activity'].apply(check_employment)"
   ]
  },
  {
   "cell_type": "code",
   "execution_count": 11,
   "metadata": {},
   "outputs": [
    {
     "data": {
      "text/plain": [
       "Not Employed    298868\n",
       "Employed        238061\n",
       "Unknown             49\n",
       "Name: employment, dtype: int64"
      ]
     },
     "execution_count": 11,
     "metadata": {},
     "output_type": "execute_result"
    }
   ],
   "source": [
    "df_nspn['employment'].value_counts()"
   ]
  },
  {
   "cell_type": "code",
   "execution_count": 12,
   "metadata": {},
   "outputs": [
    {
     "data": {
      "text/html": [
       "<div>\n",
       "<style scoped>\n",
       "    .dataframe tbody tr th:only-of-type {\n",
       "        vertical-align: middle;\n",
       "    }\n",
       "\n",
       "    .dataframe tbody tr th {\n",
       "        vertical-align: top;\n",
       "    }\n",
       "\n",
       "    .dataframe thead th {\n",
       "        text-align: right;\n",
       "    }\n",
       "</style>\n",
       "<table border=\"1\" class=\"dataframe\">\n",
       "  <thead>\n",
       "    <tr style=\"text-align: right;\">\n",
       "      <th></th>\n",
       "      <th>hh_id</th>\n",
       "      <th>member_number</th>\n",
       "      <th>marital_status</th>\n",
       "      <th>max_education</th>\n",
       "      <th>village_number</th>\n",
       "      <th>urban_constant_figure</th>\n",
       "      <th>rural_constant_figure</th>\n",
       "      <th>nairobi_constant_figure</th>\n",
       "      <th>past_week_activity</th>\n",
       "      <th>weight_status</th>\n",
       "      <th>employment</th>\n",
       "    </tr>\n",
       "  </thead>\n",
       "  <tbody>\n",
       "    <tr>\n",
       "      <th>0</th>\n",
       "      <td>NaN</td>\n",
       "      <td>23072830180214405131R9FRWMRSZ</td>\n",
       "      <td>Never married</td>\n",
       "      <td>University</td>\n",
       "      <td>1704</td>\n",
       "      <td>0.00000</td>\n",
       "      <td>0.88258</td>\n",
       "      <td>0.0</td>\n",
       "      <td>No work available</td>\n",
       "      <td>Rural</td>\n",
       "      <td>Not Employed</td>\n",
       "    </tr>\n",
       "    <tr>\n",
       "      <th>1</th>\n",
       "      <td>NaN</td>\n",
       "      <td>12071543797886813671FLE701OFZFYXJ</td>\n",
       "      <td>Married mono-gamous</td>\n",
       "      <td>Secondary</td>\n",
       "      <td>2721</td>\n",
       "      <td>0.00000</td>\n",
       "      <td>9.10998</td>\n",
       "      <td>0.0</td>\n",
       "      <td>Worked own or at family business or at family ...</td>\n",
       "      <td>Rural</td>\n",
       "      <td>Employed</td>\n",
       "    </tr>\n",
       "    <tr>\n",
       "      <th>2</th>\n",
       "      <td>NaN</td>\n",
       "      <td>1207154379783012542ZH39PK8KS58BAN</td>\n",
       "      <td>Married mono-gamous</td>\n",
       "      <td>Secondary</td>\n",
       "      <td>2721</td>\n",
       "      <td>0.00000</td>\n",
       "      <td>9.17028</td>\n",
       "      <td>0.0</td>\n",
       "      <td>Worked own or at family business or at family ...</td>\n",
       "      <td>Rural</td>\n",
       "      <td>Employed</td>\n",
       "    </tr>\n",
       "    <tr>\n",
       "      <th>3</th>\n",
       "      <td>179855.0</td>\n",
       "      <td>607333333331702253TRO60ZI42GYQLC</td>\n",
       "      <td>Widowed</td>\n",
       "      <td>University</td>\n",
       "      <td>3102</td>\n",
       "      <td>9.36318</td>\n",
       "      <td>0.00000</td>\n",
       "      <td>0.0</td>\n",
       "      <td>Worked own or at family business or at family ...</td>\n",
       "      <td>Urban</td>\n",
       "      <td>Employed</td>\n",
       "    </tr>\n",
       "    <tr>\n",
       "      <th>4</th>\n",
       "      <td>115853.0</td>\n",
       "      <td>3707105645499723889</td>\n",
       "      <td>Married mono-gamous</td>\n",
       "      <td>Pre-Primary</td>\n",
       "      <td>1812</td>\n",
       "      <td>0.00000</td>\n",
       "      <td>8.56175</td>\n",
       "      <td>0.0</td>\n",
       "      <td>Incapacitated</td>\n",
       "      <td>Rural</td>\n",
       "      <td>Not Employed</td>\n",
       "    </tr>\n",
       "  </tbody>\n",
       "</table>\n",
       "</div>"
      ],
      "text/plain": [
       "      hh_id                      member_number       marital_status  \\\n",
       "0       NaN      23072830180214405131R9FRWMRSZ        Never married   \n",
       "1       NaN  12071543797886813671FLE701OFZFYXJ  Married mono-gamous   \n",
       "2       NaN  1207154379783012542ZH39PK8KS58BAN  Married mono-gamous   \n",
       "3  179855.0   607333333331702253TRO60ZI42GYQLC              Widowed   \n",
       "4  115853.0                3707105645499723889  Married mono-gamous   \n",
       "\n",
       "  max_education  village_number  urban_constant_figure  rural_constant_figure  \\\n",
       "0    University            1704                0.00000                0.88258   \n",
       "1     Secondary            2721                0.00000                9.10998   \n",
       "2     Secondary            2721                0.00000                9.17028   \n",
       "3    University            3102                9.36318                0.00000   \n",
       "4   Pre-Primary            1812                0.00000                8.56175   \n",
       "\n",
       "   nairobi_constant_figure                                 past_week_activity  \\\n",
       "0                      0.0                                  No work available   \n",
       "1                      0.0  Worked own or at family business or at family ...   \n",
       "2                      0.0  Worked own or at family business or at family ...   \n",
       "3                      0.0  Worked own or at family business or at family ...   \n",
       "4                      0.0                                      Incapacitated   \n",
       "\n",
       "  weight_status    employment  \n",
       "0         Rural  Not Employed  \n",
       "1         Rural      Employed  \n",
       "2         Rural      Employed  \n",
       "3         Urban      Employed  \n",
       "4         Rural  Not Employed  "
      ]
     },
     "execution_count": 12,
     "metadata": {},
     "output_type": "execute_result"
    }
   ],
   "source": [
    "df_nspn.head()\n"
   ]
  },
  {
   "cell_type": "code",
   "execution_count": 13,
   "metadata": {},
   "outputs": [
    {
     "name": "stdout",
     "output_type": "stream",
     "text": [
      "<class 'pandas.core.frame.DataFrame'>\n",
      "RangeIndex: 536978 entries, 0 to 536977\n",
      "Data columns (total 11 columns):\n",
      " #   Column                   Non-Null Count   Dtype  \n",
      "---  ------                   --------------   -----  \n",
      " 0   hh_id                    519749 non-null  float64\n",
      " 1   member_number            536978 non-null  object \n",
      " 2   marital_status           536978 non-null  object \n",
      " 3   max_education            536978 non-null  object \n",
      " 4   village_number           536978 non-null  int64  \n",
      " 5   urban_constant_figure    536978 non-null  float64\n",
      " 6   rural_constant_figure    536978 non-null  float64\n",
      " 7   nairobi_constant_figure  536978 non-null  float64\n",
      " 8   past_week_activity       536978 non-null  object \n",
      " 9   weight_status            536977 non-null  object \n",
      " 10  employment               536978 non-null  object \n",
      "dtypes: float64(4), int64(1), object(6)\n",
      "memory usage: 45.1+ MB\n"
     ]
    }
   ],
   "source": [
    "df_nspn.info()"
   ]
  },
  {
   "cell_type": "code",
   "execution_count": 14,
   "metadata": {},
   "outputs": [
    {
     "data": {
      "text/plain": [
       "(536978, 11)"
      ]
     },
     "execution_count": 14,
     "metadata": {},
     "output_type": "execute_result"
    }
   ],
   "source": [
    "df_nspn.shape"
   ]
  },
  {
   "cell_type": "code",
   "execution_count": 15,
   "metadata": {},
   "outputs": [
    {
     "data": {
      "text/plain": [
       "hh_id                      17229\n",
       "member_number                  0\n",
       "marital_status                 0\n",
       "max_education                  0\n",
       "village_number                 0\n",
       "urban_constant_figure          0\n",
       "rural_constant_figure          0\n",
       "nairobi_constant_figure        0\n",
       "past_week_activity             0\n",
       "weight_status                  1\n",
       "employment                     0\n",
       "dtype: int64"
      ]
     },
     "execution_count": 15,
     "metadata": {},
     "output_type": "execute_result"
    }
   ],
   "source": [
    "# check for missing values\n",
    "df_nspn.isnull().sum()"
   ]
  },
  {
   "cell_type": "code",
   "execution_count": 16,
   "metadata": {},
   "outputs": [],
   "source": [
    "# drop the missing values in df_nspn['hh_id'] and df_nspn['weight_status']\n",
    "\t\n",
    "df_nspn.dropna(inplace=True)"
   ]
  },
  {
   "cell_type": "code",
   "execution_count": 17,
   "metadata": {},
   "outputs": [
    {
     "data": {
      "text/plain": [
       "hh_id                      0\n",
       "member_number              0\n",
       "marital_status             0\n",
       "max_education              0\n",
       "village_number             0\n",
       "urban_constant_figure      0\n",
       "rural_constant_figure      0\n",
       "nairobi_constant_figure    0\n",
       "past_week_activity         0\n",
       "weight_status              0\n",
       "employment                 0\n",
       "dtype: int64"
      ]
     },
     "execution_count": 17,
     "metadata": {},
     "output_type": "execute_result"
    }
   ],
   "source": [
    "df_nspn.isnull().sum()"
   ]
  },
  {
   "cell_type": "code",
   "execution_count": 18,
   "metadata": {},
   "outputs": [
    {
     "data": {
      "text/plain": [
       "(519748, 11)"
      ]
     },
     "execution_count": 18,
     "metadata": {},
     "output_type": "execute_result"
    }
   ],
   "source": [
    "df_nspn.shape"
   ]
  },
  {
   "cell_type": "code",
   "execution_count": 19,
   "metadata": {},
   "outputs": [
    {
     "data": {
      "text/html": [
       "<div>\n",
       "<style scoped>\n",
       "    .dataframe tbody tr th:only-of-type {\n",
       "        vertical-align: middle;\n",
       "    }\n",
       "\n",
       "    .dataframe tbody tr th {\n",
       "        vertical-align: top;\n",
       "    }\n",
       "\n",
       "    .dataframe thead th {\n",
       "        text-align: right;\n",
       "    }\n",
       "</style>\n",
       "<table border=\"1\" class=\"dataframe\">\n",
       "  <thead>\n",
       "    <tr style=\"text-align: right;\">\n",
       "      <th></th>\n",
       "      <th>hh_id</th>\n",
       "      <th>member_number</th>\n",
       "      <th>marital_status</th>\n",
       "      <th>max_education</th>\n",
       "      <th>village_number</th>\n",
       "      <th>urban_constant_figure</th>\n",
       "      <th>rural_constant_figure</th>\n",
       "      <th>nairobi_constant_figure</th>\n",
       "      <th>past_week_activity</th>\n",
       "      <th>weight_status</th>\n",
       "      <th>employment</th>\n",
       "    </tr>\n",
       "  </thead>\n",
       "  <tbody>\n",
       "    <tr>\n",
       "      <th>3</th>\n",
       "      <td>179855.0</td>\n",
       "      <td>607333333331702253TRO60ZI42GYQLC</td>\n",
       "      <td>Widowed</td>\n",
       "      <td>University</td>\n",
       "      <td>3102</td>\n",
       "      <td>9.36318</td>\n",
       "      <td>0.00000</td>\n",
       "      <td>0.0000</td>\n",
       "      <td>Worked own or at family business or at family ...</td>\n",
       "      <td>Urban</td>\n",
       "      <td>Employed</td>\n",
       "    </tr>\n",
       "    <tr>\n",
       "      <th>4</th>\n",
       "      <td>115853.0</td>\n",
       "      <td>3707105645499723889</td>\n",
       "      <td>Married mono-gamous</td>\n",
       "      <td>Pre-Primary</td>\n",
       "      <td>1812</td>\n",
       "      <td>0.00000</td>\n",
       "      <td>8.56175</td>\n",
       "      <td>0.0000</td>\n",
       "      <td>Incapacitated</td>\n",
       "      <td>Rural</td>\n",
       "      <td>Not Employed</td>\n",
       "    </tr>\n",
       "    <tr>\n",
       "      <th>5</th>\n",
       "      <td>230936.0</td>\n",
       "      <td>4707333333331987152GGZJIRE5PSQ03F</td>\n",
       "      <td>Never married</td>\n",
       "      <td>University</td>\n",
       "      <td>1485</td>\n",
       "      <td>0.00000</td>\n",
       "      <td>0.00000</td>\n",
       "      <td>10.3922</td>\n",
       "      <td>Apprentice/Intern</td>\n",
       "      <td>Nairobi Urban</td>\n",
       "      <td>Employed</td>\n",
       "    </tr>\n",
       "    <tr>\n",
       "      <th>6</th>\n",
       "      <td>225780.0</td>\n",
       "      <td>120715437978635254252PGQWN6UFQJFD</td>\n",
       "      <td>Married mono-gamous</td>\n",
       "      <td>Secondary</td>\n",
       "      <td>2721</td>\n",
       "      <td>0.00000</td>\n",
       "      <td>8.99025</td>\n",
       "      <td>0.0000</td>\n",
       "      <td>Worked own or at family business or at family ...</td>\n",
       "      <td>Rural</td>\n",
       "      <td>Employed</td>\n",
       "    </tr>\n",
       "    <tr>\n",
       "      <th>7</th>\n",
       "      <td>228411.0</td>\n",
       "      <td>4707333333339039019ACGWJF98VC92O1</td>\n",
       "      <td>Never married</td>\n",
       "      <td>Pre-Primary</td>\n",
       "      <td>1485</td>\n",
       "      <td>0.00000</td>\n",
       "      <td>0.00000</td>\n",
       "      <td>9.9264</td>\n",
       "      <td>Seeking work</td>\n",
       "      <td>Nairobi Urban</td>\n",
       "      <td>Not Employed</td>\n",
       "    </tr>\n",
       "  </tbody>\n",
       "</table>\n",
       "</div>"
      ],
      "text/plain": [
       "      hh_id                      member_number       marital_status  \\\n",
       "3  179855.0   607333333331702253TRO60ZI42GYQLC              Widowed   \n",
       "4  115853.0                3707105645499723889  Married mono-gamous   \n",
       "5  230936.0  4707333333331987152GGZJIRE5PSQ03F        Never married   \n",
       "6  225780.0  120715437978635254252PGQWN6UFQJFD  Married mono-gamous   \n",
       "7  228411.0  4707333333339039019ACGWJF98VC92O1        Never married   \n",
       "\n",
       "  max_education  village_number  urban_constant_figure  rural_constant_figure  \\\n",
       "3    University            3102                9.36318                0.00000   \n",
       "4   Pre-Primary            1812                0.00000                8.56175   \n",
       "5    University            1485                0.00000                0.00000   \n",
       "6     Secondary            2721                0.00000                8.99025   \n",
       "7   Pre-Primary            1485                0.00000                0.00000   \n",
       "\n",
       "   nairobi_constant_figure                                 past_week_activity  \\\n",
       "3                   0.0000  Worked own or at family business or at family ...   \n",
       "4                   0.0000                                      Incapacitated   \n",
       "5                  10.3922                                  Apprentice/Intern   \n",
       "6                   0.0000  Worked own or at family business or at family ...   \n",
       "7                   9.9264                                       Seeking work   \n",
       "\n",
       "   weight_status    employment  \n",
       "3          Urban      Employed  \n",
       "4          Rural  Not Employed  \n",
       "5  Nairobi Urban      Employed  \n",
       "6          Rural      Employed  \n",
       "7  Nairobi Urban  Not Employed  "
      ]
     },
     "execution_count": 19,
     "metadata": {},
     "output_type": "execute_result"
    }
   ],
   "source": [
    "# read the data\n",
    "df_nspn.head()"
   ]
  },
  {
   "cell_type": "markdown",
   "metadata": {},
   "source": [
    "#### 2. Select and clean datapoints from the memberindicators table\n",
    "\n",
    "1. hhid - Household ID\n",
    "2. membernumber\n",
    "3. disability\n",
    "4. specifydisablity\n",
    "3. gender\n",
    "4. birthdate"
   ]
  },
  {
   "cell_type": "code",
   "execution_count": 20,
   "metadata": {},
   "outputs": [
    {
     "name": "stderr",
     "output_type": "stream",
     "text": [
      "C:\\Users\\jochoniah.nzomo\\.conda\\envs\\DataSciences\\lib\\site-packages\\pandas\\io\\sql.py:761: UserWarning: pandas only support SQLAlchemy connectable(engine/connection) ordatabase string URI or sqlite3 DBAPI2 connectionother DBAPI2 objects are not tested, please consider using SQLAlchemy\n",
      "  warnings.warn(\n"
     ]
    },
    {
     "name": "stdout",
     "output_type": "stream",
     "text": [
      "CPU times: total: 8.97 s\n",
      "Wall time: 3min 5s\n"
     ]
    },
    {
     "data": {
      "text/html": [
       "<div>\n",
       "<style scoped>\n",
       "    .dataframe tbody tr th:only-of-type {\n",
       "        vertical-align: middle;\n",
       "    }\n",
       "\n",
       "    .dataframe tbody tr th {\n",
       "        vertical-align: top;\n",
       "    }\n",
       "\n",
       "    .dataframe thead th {\n",
       "        text-align: right;\n",
       "    }\n",
       "</style>\n",
       "<table border=\"1\" class=\"dataframe\">\n",
       "  <thead>\n",
       "    <tr style=\"text-align: right;\">\n",
       "      <th></th>\n",
       "      <th>hh_id</th>\n",
       "      <th>member_number</th>\n",
       "      <th>gender</th>\n",
       "      <th>birthdate</th>\n",
       "      <th>relationship</th>\n",
       "      <th>disability</th>\n",
       "      <th>disability_type</th>\n",
       "    </tr>\n",
       "  </thead>\n",
       "  <tbody>\n",
       "    <tr>\n",
       "      <th>0</th>\n",
       "      <td>5</td>\n",
       "      <td>4307007523383922910</td>\n",
       "      <td>Male</td>\n",
       "      <td>1981-08-01</td>\n",
       "      <td>Household Head</td>\n",
       "      <td>No</td>\n",
       "      <td>None</td>\n",
       "    </tr>\n",
       "    <tr>\n",
       "      <th>1</th>\n",
       "      <td>20</td>\n",
       "      <td>4307123979836020170</td>\n",
       "      <td>Female</td>\n",
       "      <td>2000-09-02</td>\n",
       "      <td>Household Head</td>\n",
       "      <td>No</td>\n",
       "      <td>None</td>\n",
       "    </tr>\n",
       "    <tr>\n",
       "      <th>2</th>\n",
       "      <td>60</td>\n",
       "      <td>3707233334882450970</td>\n",
       "      <td>Male</td>\n",
       "      <td>1971-06-15</td>\n",
       "      <td>Household Head</td>\n",
       "      <td>No</td>\n",
       "      <td>None</td>\n",
       "    </tr>\n",
       "    <tr>\n",
       "      <th>3</th>\n",
       "      <td>60</td>\n",
       "      <td>3707233334886591287</td>\n",
       "      <td>Female</td>\n",
       "      <td>1989-06-15</td>\n",
       "      <td>Spouse</td>\n",
       "      <td>No</td>\n",
       "      <td>None</td>\n",
       "    </tr>\n",
       "    <tr>\n",
       "      <th>4</th>\n",
       "      <td>66</td>\n",
       "      <td>3707233334885863185</td>\n",
       "      <td>Female</td>\n",
       "      <td>1989-10-05</td>\n",
       "      <td>Household Head</td>\n",
       "      <td>Yes</td>\n",
       "      <td>None</td>\n",
       "    </tr>\n",
       "    <tr>\n",
       "      <th>...</th>\n",
       "      <td>...</td>\n",
       "      <td>...</td>\n",
       "      <td>...</td>\n",
       "      <td>...</td>\n",
       "      <td>...</td>\n",
       "      <td>...</td>\n",
       "      <td>...</td>\n",
       "    </tr>\n",
       "    <tr>\n",
       "      <th>1887423</th>\n",
       "      <td>814086</td>\n",
       "      <td>12072870365757076576TPPMKMIEP95BM</td>\n",
       "      <td>Female</td>\n",
       "      <td>1996-11-30</td>\n",
       "      <td>Spouse</td>\n",
       "      <td>No</td>\n",
       "      <td>--select--</td>\n",
       "    </tr>\n",
       "    <tr>\n",
       "      <th>1887424</th>\n",
       "      <td>814086</td>\n",
       "      <td>12072870365774366149TRS47L96ARHYN</td>\n",
       "      <td>Female</td>\n",
       "      <td>2015-11-30</td>\n",
       "      <td>Child (Birth)</td>\n",
       "      <td>No</td>\n",
       "      <td>--select--</td>\n",
       "    </tr>\n",
       "    <tr>\n",
       "      <th>1887425</th>\n",
       "      <td>814088</td>\n",
       "      <td>12072870365789252771UTTEV9BMU0SHA</td>\n",
       "      <td>Male</td>\n",
       "      <td>1975-11-30</td>\n",
       "      <td>Household Head</td>\n",
       "      <td>No</td>\n",
       "      <td>--select--</td>\n",
       "    </tr>\n",
       "    <tr>\n",
       "      <th>1887426</th>\n",
       "      <td>814088</td>\n",
       "      <td>12072870365719209632XZZSM3LM5SD51</td>\n",
       "      <td>Female</td>\n",
       "      <td>1977-11-30</td>\n",
       "      <td>Spouse</td>\n",
       "      <td>No</td>\n",
       "      <td>--select--</td>\n",
       "    </tr>\n",
       "    <tr>\n",
       "      <th>1887427</th>\n",
       "      <td>814088</td>\n",
       "      <td>120728703657233769357QZGE13OLF5TK</td>\n",
       "      <td>Female</td>\n",
       "      <td>2005-11-30</td>\n",
       "      <td>Child (Birth)</td>\n",
       "      <td>No</td>\n",
       "      <td>--select--</td>\n",
       "    </tr>\n",
       "  </tbody>\n",
       "</table>\n",
       "<p>1887428 rows × 7 columns</p>\n",
       "</div>"
      ],
      "text/plain": [
       "          hh_id                      member_number  gender  birthdate  \\\n",
       "0             5                4307007523383922910    Male 1981-08-01   \n",
       "1            20                4307123979836020170  Female 2000-09-02   \n",
       "2            60                3707233334882450970    Male 1971-06-15   \n",
       "3            60                3707233334886591287  Female 1989-06-15   \n",
       "4            66                3707233334885863185  Female 1989-10-05   \n",
       "...         ...                                ...     ...        ...   \n",
       "1887423  814086  12072870365757076576TPPMKMIEP95BM  Female 1996-11-30   \n",
       "1887424  814086  12072870365774366149TRS47L96ARHYN  Female 2015-11-30   \n",
       "1887425  814088  12072870365789252771UTTEV9BMU0SHA    Male 1975-11-30   \n",
       "1887426  814088  12072870365719209632XZZSM3LM5SD51  Female 1977-11-30   \n",
       "1887427  814088  120728703657233769357QZGE13OLF5TK  Female 2005-11-30   \n",
       "\n",
       "           relationship disability disability_type  \n",
       "0        Household Head         No            None  \n",
       "1        Household Head         No            None  \n",
       "2        Household Head         No            None  \n",
       "3                Spouse         No            None  \n",
       "4        Household Head        Yes            None  \n",
       "...                 ...        ...             ...  \n",
       "1887423          Spouse         No      --select--  \n",
       "1887424   Child (Birth)         No      --select--  \n",
       "1887425  Household Head         No      --select--  \n",
       "1887426          Spouse         No      --select--  \n",
       "1887427   Child (Birth)         No      --select--  \n",
       "\n",
       "[1887428 rows x 7 columns]"
      ]
     },
     "execution_count": 20,
     "metadata": {},
     "output_type": "execute_result"
    }
   ],
   "source": [
    "%%time\n",
    "pd.read_sql('''\n",
    "SELECT hhid as hh_id,\n",
    "    membernumber as member_number, \n",
    "    gender, \n",
    "    birthdate, \n",
    "    relationship, \n",
    "    disability,\n",
    "    specifydisability as disability_type\n",
    "from memberindicators\n",
    "\n",
    "''',conn)"
   ]
  },
  {
   "cell_type": "code",
   "execution_count": 21,
   "metadata": {},
   "outputs": [
    {
     "name": "stdout",
     "output_type": "stream",
     "text": [
      "CPU times: total: 11.5 s\n",
      "Wall time: 3min 31s\n"
     ]
    }
   ],
   "source": [
    "%%time\n",
    "cur.execute('SELECT hhid, membernumber, gender, birthdate, relationship, disability,specifydisability from memberindicators')\n",
    "df_MI = cur.fetchall()\n",
    "df_MI = pd.DataFrame(df_MI)\n",
    "df_MI.columns = ['hh_id', 'member_number','gender','birthdate', 'relationship', 'disability', 'disability_type']"
   ]
  },
  {
   "cell_type": "code",
   "execution_count": 28,
   "metadata": {},
   "outputs": [
    {
     "data": {
      "text/html": [
       "<div>\n",
       "<style scoped>\n",
       "    .dataframe tbody tr th:only-of-type {\n",
       "        vertical-align: middle;\n",
       "    }\n",
       "\n",
       "    .dataframe tbody tr th {\n",
       "        vertical-align: top;\n",
       "    }\n",
       "\n",
       "    .dataframe thead th {\n",
       "        text-align: right;\n",
       "    }\n",
       "</style>\n",
       "<table border=\"1\" class=\"dataframe\">\n",
       "  <thead>\n",
       "    <tr style=\"text-align: right;\">\n",
       "      <th></th>\n",
       "      <th>hh_id</th>\n",
       "      <th>member_number</th>\n",
       "      <th>gender</th>\n",
       "      <th>birthdate</th>\n",
       "      <th>relationship</th>\n",
       "      <th>disability</th>\n",
       "      <th>disability_type</th>\n",
       "    </tr>\n",
       "  </thead>\n",
       "  <tbody>\n",
       "    <tr>\n",
       "      <th>0</th>\n",
       "      <td>5</td>\n",
       "      <td>4307007523383922910</td>\n",
       "      <td>Male</td>\n",
       "      <td>1981-08-01</td>\n",
       "      <td>Household Head</td>\n",
       "      <td>No</td>\n",
       "      <td>None</td>\n",
       "    </tr>\n",
       "    <tr>\n",
       "      <th>1</th>\n",
       "      <td>20</td>\n",
       "      <td>4307123979836020170</td>\n",
       "      <td>Female</td>\n",
       "      <td>2000-09-02</td>\n",
       "      <td>Household Head</td>\n",
       "      <td>No</td>\n",
       "      <td>None</td>\n",
       "    </tr>\n",
       "    <tr>\n",
       "      <th>2</th>\n",
       "      <td>60</td>\n",
       "      <td>3707233334882450970</td>\n",
       "      <td>Male</td>\n",
       "      <td>1971-06-15</td>\n",
       "      <td>Household Head</td>\n",
       "      <td>No</td>\n",
       "      <td>None</td>\n",
       "    </tr>\n",
       "    <tr>\n",
       "      <th>3</th>\n",
       "      <td>60</td>\n",
       "      <td>3707233334886591287</td>\n",
       "      <td>Female</td>\n",
       "      <td>1989-06-15</td>\n",
       "      <td>Spouse</td>\n",
       "      <td>No</td>\n",
       "      <td>None</td>\n",
       "    </tr>\n",
       "    <tr>\n",
       "      <th>4</th>\n",
       "      <td>66</td>\n",
       "      <td>3707233334885863185</td>\n",
       "      <td>Female</td>\n",
       "      <td>1989-10-05</td>\n",
       "      <td>Household Head</td>\n",
       "      <td>Yes</td>\n",
       "      <td>None</td>\n",
       "    </tr>\n",
       "  </tbody>\n",
       "</table>\n",
       "</div>"
      ],
      "text/plain": [
       "   hh_id        member_number  gender  birthdate    relationship disability  \\\n",
       "0      5  4307007523383922910    Male 1981-08-01  Household Head         No   \n",
       "1     20  4307123979836020170  Female 2000-09-02  Household Head         No   \n",
       "2     60  3707233334882450970    Male 1971-06-15  Household Head         No   \n",
       "3     60  3707233334886591287  Female 1989-06-15          Spouse         No   \n",
       "4     66  3707233334885863185  Female 1989-10-05  Household Head        Yes   \n",
       "\n",
       "  disability_type  \n",
       "0            None  \n",
       "1            None  \n",
       "2            None  \n",
       "3            None  \n",
       "4            None  "
      ]
     },
     "execution_count": 28,
     "metadata": {},
     "output_type": "execute_result"
    }
   ],
   "source": [
    "df_MI.head()"
   ]
  },
  {
   "cell_type": "markdown",
   "metadata": {},
   "source": [
    "###### check household members relationships"
   ]
  },
  {
   "cell_type": "code",
   "execution_count": 30,
   "metadata": {},
   "outputs": [
    {
     "data": {
      "text/plain": [
       "Child (Birth)           795378\n",
       "Household Head          685473\n",
       "Spouse                  251741\n",
       "Grandchild              111799\n",
       "Others                   21769\n",
       "Brother / Sister         11401\n",
       "Child (Registration)      9775\n",
       "Unknown                     92\n",
       "Name: relationship, dtype: int64"
      ]
     },
     "execution_count": 30,
     "metadata": {},
     "output_type": "execute_result"
    }
   ],
   "source": [
    "# Replace --select-- with 'Unknown'\n",
    "df_MI.loc[df_MI['relationship'] == '--select--', 'relationship'] = 'Unknown'\n",
    "df_MI['relationship'].value_counts()"
   ]
  },
  {
   "cell_type": "markdown",
   "metadata": {},
   "source": [
    "###### check gender disagregations"
   ]
  },
  {
   "cell_type": "code",
   "execution_count": 31,
   "metadata": {},
   "outputs": [
    {
     "data": {
      "text/plain": [
       "Female    999840\n",
       "Male      887588\n",
       "Name: gender, dtype: int64"
      ]
     },
     "execution_count": 31,
     "metadata": {},
     "output_type": "execute_result"
    }
   ],
   "source": [
    "df_MI['gender'].value_counts()"
   ]
  },
  {
   "cell_type": "markdown",
   "metadata": {},
   "source": [
    "###### check birthdate and calculate age of household members"
   ]
  },
  {
   "cell_type": "code",
   "execution_count": 34,
   "metadata": {},
   "outputs": [
    {
     "name": "stdout",
     "output_type": "stream",
     "text": [
      "CPU times: total: 34.8 s\n",
      "Wall time: 36.3 s\n"
     ]
    }
   ],
   "source": [
    "%%time\n",
    "\n",
    "def get_age(birthdate):\n",
    "    date_now = (datetime.datetime.now())\n",
    "    age_calc = (date_now-birthdate).days\n",
    "    return round(age_calc/365)\n",
    "    \n",
    "df_MI['HH_MemberAge'] = df_MI['birthdate'].apply(get_age)"
   ]
  },
  {
   "cell_type": "code",
   "execution_count": 35,
   "metadata": {},
   "outputs": [
    {
     "data": {
      "text/plain": [
       "hh_id                       int64\n",
       "member_number              object\n",
       "gender                     object\n",
       "birthdate          datetime64[ns]\n",
       "relationship               object\n",
       "disability                 object\n",
       "disability_type            object\n",
       "HH_MemberAge                int64\n",
       "dtype: object"
      ]
     },
     "execution_count": 35,
     "metadata": {},
     "output_type": "execute_result"
    }
   ],
   "source": [
    "df_MI.dtypes"
   ]
  },
  {
   "cell_type": "code",
   "execution_count": 36,
   "metadata": {},
   "outputs": [
    {
     "name": "stdout",
     "output_type": "stream",
     "text": [
      "123\n"
     ]
    },
    {
     "data": {
      "text/plain": [
       "None"
      ]
     },
     "metadata": {},
     "output_type": "display_data"
    },
    {
     "name": "stdout",
     "output_type": "stream",
     "text": [
      "-73\n"
     ]
    },
    {
     "data": {
      "text/plain": [
       "None"
      ]
     },
     "metadata": {},
     "output_type": "display_data"
    }
   ],
   "source": [
    "# get min and max ages\n",
    "p=df_MI['HH_MemberAge'].max()\n",
    "q=df_MI['HH_MemberAge'].min()\n",
    "\n",
    "\n",
    "display(print(p))\n",
    "display(print(q))"
   ]
  },
  {
   "cell_type": "code",
   "execution_count": 39,
   "metadata": {},
   "outputs": [
    {
     "name": "stdout",
     "output_type": "stream",
     "text": [
      "(1887428, 8)\n",
      "(1887367, 8)\n"
     ]
    }
   ],
   "source": [
    "print(df_MI.shape)\n",
    "df_MI = df_MI[df_MI['HH_MemberAge']>0]\n",
    "print(df_MI.shape)"
   ]
  },
  {
   "cell_type": "markdown",
   "metadata": {},
   "source": [
    "###### check disability data"
   ]
  },
  {
   "cell_type": "code",
   "execution_count": 40,
   "metadata": {},
   "outputs": [
    {
     "name": "stderr",
     "output_type": "stream",
     "text": [
      "C:\\Users\\jochoniah.nzomo\\AppData\\Local\\Temp\\ipykernel_33864\\880652668.py:12: SettingWithCopyWarning: \n",
      "A value is trying to be set on a copy of a slice from a DataFrame.\n",
      "Try using .loc[row_indexer,col_indexer] = value instead\n",
      "\n",
      "See the caveats in the documentation: https://pandas.pydata.org/pandas-docs/stable/user_guide/indexing.html#returning-a-view-versus-a-copy\n",
      "  df_MI['disability'] = df_MI[['disability_type','disability']].apply(check_disability,axis=1)\n"
     ]
    }
   ],
   "source": [
    "# df_MI['disability'].value_counts()\n",
    "\n",
    "def check_disability(x):\n",
    "    disability=x['disability']\n",
    "    type_disability = x['disability_type']\n",
    "    \n",
    "    if((type_disability in ['Visual','Physical','Mental','Speech','Others','Self-care difficulties','Hearing']) & (disability=='No')):\n",
    "        return 'Yes'\n",
    "    else:\n",
    "        return disability\n",
    "    \n",
    "df_MI['disability'] = df_MI[['disability_type','disability']].apply(check_disability,axis=1)"
   ]
  },
  {
   "cell_type": "code",
   "execution_count": 41,
   "metadata": {},
   "outputs": [
    {
     "name": "stderr",
     "output_type": "stream",
     "text": [
      "C:\\Users\\jochoniah.nzomo\\AppData\\Local\\Temp\\ipykernel_33864\\4287810711.py:13: SettingWithCopyWarning: \n",
      "A value is trying to be set on a copy of a slice from a DataFrame.\n",
      "Try using .loc[row_indexer,col_indexer] = value instead\n",
      "\n",
      "See the caveats in the documentation: https://pandas.pydata.org/pandas-docs/stable/user_guide/indexing.html#returning-a-view-versus-a-copy\n",
      "  df_MI['disability_type'] = df_MI[['disability_type','disability']].apply(check_disability_type,axis=1)\n"
     ]
    }
   ],
   "source": [
    "def check_disability_type(x):\n",
    "    disability=x['disability']\n",
    "    type_disability = x['disability_type']\n",
    "    \n",
    "    if((type_disability in ['Visual','Physical','Mental','Speech','Others','Self-care difficulties','Hearing']) & (disability=='Yes')):\n",
    "        return type_disability\n",
    "    else:\n",
    "        if(disability=='No'):\n",
    "            return 'None'\n",
    "        else:\n",
    "            return 'Unknown'\n",
    "        \n",
    "df_MI['disability_type'] = df_MI[['disability_type','disability']].apply(check_disability_type,axis=1)"
   ]
  },
  {
   "cell_type": "code",
   "execution_count": 42,
   "metadata": {},
   "outputs": [
    {
     "data": {
      "text/plain": [
       "Index(['hh_id', 'member_number', 'gender', 'birthdate', 'relationship',\n",
       "       'disability', 'disability_type', 'HH_MemberAge'],\n",
       "      dtype='object')"
      ]
     },
     "metadata": {},
     "output_type": "display_data"
    },
    {
     "data": {
      "text/html": [
       "<div>\n",
       "<style scoped>\n",
       "    .dataframe tbody tr th:only-of-type {\n",
       "        vertical-align: middle;\n",
       "    }\n",
       "\n",
       "    .dataframe tbody tr th {\n",
       "        vertical-align: top;\n",
       "    }\n",
       "\n",
       "    .dataframe thead th {\n",
       "        text-align: right;\n",
       "    }\n",
       "</style>\n",
       "<table border=\"1\" class=\"dataframe\">\n",
       "  <thead>\n",
       "    <tr style=\"text-align: right;\">\n",
       "      <th></th>\n",
       "      <th>hh_id</th>\n",
       "      <th>member_number</th>\n",
       "      <th>gender</th>\n",
       "      <th>birthdate</th>\n",
       "      <th>relationship</th>\n",
       "      <th>disability</th>\n",
       "      <th>disability_type</th>\n",
       "      <th>HH_MemberAge</th>\n",
       "    </tr>\n",
       "  </thead>\n",
       "  <tbody>\n",
       "    <tr>\n",
       "      <th>1887423</th>\n",
       "      <td>814086</td>\n",
       "      <td>12072870365757076576TPPMKMIEP95BM</td>\n",
       "      <td>Female</td>\n",
       "      <td>1996-11-30</td>\n",
       "      <td>Spouse</td>\n",
       "      <td>No</td>\n",
       "      <td>None</td>\n",
       "      <td>26</td>\n",
       "    </tr>\n",
       "    <tr>\n",
       "      <th>1887424</th>\n",
       "      <td>814086</td>\n",
       "      <td>12072870365774366149TRS47L96ARHYN</td>\n",
       "      <td>Female</td>\n",
       "      <td>2015-11-30</td>\n",
       "      <td>Child (Birth)</td>\n",
       "      <td>No</td>\n",
       "      <td>None</td>\n",
       "      <td>7</td>\n",
       "    </tr>\n",
       "    <tr>\n",
       "      <th>1887425</th>\n",
       "      <td>814088</td>\n",
       "      <td>12072870365789252771UTTEV9BMU0SHA</td>\n",
       "      <td>Male</td>\n",
       "      <td>1975-11-30</td>\n",
       "      <td>Household Head</td>\n",
       "      <td>No</td>\n",
       "      <td>None</td>\n",
       "      <td>47</td>\n",
       "    </tr>\n",
       "    <tr>\n",
       "      <th>1887426</th>\n",
       "      <td>814088</td>\n",
       "      <td>12072870365719209632XZZSM3LM5SD51</td>\n",
       "      <td>Female</td>\n",
       "      <td>1977-11-30</td>\n",
       "      <td>Spouse</td>\n",
       "      <td>No</td>\n",
       "      <td>None</td>\n",
       "      <td>45</td>\n",
       "    </tr>\n",
       "    <tr>\n",
       "      <th>1887427</th>\n",
       "      <td>814088</td>\n",
       "      <td>120728703657233769357QZGE13OLF5TK</td>\n",
       "      <td>Female</td>\n",
       "      <td>2005-11-30</td>\n",
       "      <td>Child (Birth)</td>\n",
       "      <td>No</td>\n",
       "      <td>None</td>\n",
       "      <td>17</td>\n",
       "    </tr>\n",
       "  </tbody>\n",
       "</table>\n",
       "</div>"
      ],
      "text/plain": [
       "          hh_id                      member_number  gender  birthdate  \\\n",
       "1887423  814086  12072870365757076576TPPMKMIEP95BM  Female 1996-11-30   \n",
       "1887424  814086  12072870365774366149TRS47L96ARHYN  Female 2015-11-30   \n",
       "1887425  814088  12072870365789252771UTTEV9BMU0SHA    Male 1975-11-30   \n",
       "1887426  814088  12072870365719209632XZZSM3LM5SD51  Female 1977-11-30   \n",
       "1887427  814088  120728703657233769357QZGE13OLF5TK  Female 2005-11-30   \n",
       "\n",
       "           relationship disability disability_type  HH_MemberAge  \n",
       "1887423          Spouse         No            None            26  \n",
       "1887424   Child (Birth)         No            None             7  \n",
       "1887425  Household Head         No            None            47  \n",
       "1887426          Spouse         No            None            45  \n",
       "1887427   Child (Birth)         No            None            17  "
      ]
     },
     "metadata": {},
     "output_type": "display_data"
    }
   ],
   "source": [
    "display(df_MI.columns)\n",
    "display(df_MI.tail())"
   ]
  },
  {
   "cell_type": "markdown",
   "metadata": {},
   "source": [
    "#### 3. Select and clean datapoints from the household table\n",
    "\n",
    "1. hhid - Household ID\n",
    "2. villageid\n",
    "3. latittude\n",
    "4. longittude"
   ]
  },
  {
   "cell_type": "code",
   "execution_count": 43,
   "metadata": {},
   "outputs": [
    {
     "name": "stdout",
     "output_type": "stream",
     "text": [
      "CPU times: total: 2.45 s\n",
      "Wall time: 28.4 s\n"
     ]
    }
   ],
   "source": [
    "%%time\n",
    "cur.execute('SELECT hhid, villageid, latitude, longitude from households')\n",
    "df_HSE = cur.fetchall()\n",
    "df_HSE = pd.DataFrame(df_HSE)\n",
    "df_HSE.columns = ['hh_id', 'village_id','lat','long']"
   ]
  },
  {
   "cell_type": "code",
   "execution_count": 52,
   "metadata": {},
   "outputs": [
    {
     "data": {
      "text/plain": [
       "0.003842041878131283"
      ]
     },
     "execution_count": 52,
     "metadata": {},
     "output_type": "execute_result"
    }
   ],
   "source": [
    "x= df_HSE.shape[0]\n",
    "y = df_HSE.dropna()\n",
    "import numpy as np\n",
    "y1 = y.replace({0.0:np.nan})\n",
    "y2 = y1.dropna()\n",
    "y2.shape[0]/x"
   ]
  },
  {
   "cell_type": "markdown",
   "metadata": {},
   "source": [
    "In the instance we do not have the household lat and long, we will consider using the household village id/name to calculate the distance between the village where the household is located and the facility"
   ]
  },
  {
   "cell_type": "markdown",
   "metadata": {},
   "source": [
    "#### 4. Select and clean datapoints from the administrative level tables\n",
    "\n",
    "1. hhid - Household ID\n",
    "2. villageid\n",
    "3. communityhealthunit\n",
    "4. linfacility\n",
    "5. wardname\n",
    "6. Latitudes\n",
    "7. longittudes\n",
    "8. subcountyname\n",
    "9. countyname"
   ]
  },
  {
   "cell_type": "code",
   "execution_count": 53,
   "metadata": {},
   "outputs": [
    {
     "name": "stdout",
     "output_type": "stream",
     "text": [
      "CPU times: total: 2.19 s\n",
      "Wall time: 40.3 s\n"
     ]
    }
   ],
   "source": [
    "%%time\n",
    "\n",
    "cur.execute('SELECT householdnumber,hhid,villageid from households')\n",
    "df_hh = cur.fetchall()\n",
    "df_hh = pd.DataFrame(df_hh)\n",
    "df_hh.columns = ['hh_num','hh_id','village_id']\n",
    "\n",
    "\n",
    "cur.execute('SELECT villageid,villagename,communityhealthunitid from villages')\n",
    "df_village = cur.fetchall()\n",
    "df_village = pd.DataFrame(df_village)\n",
    "df_village.columns = ['village_id','village_name','chu_id']\n",
    "\n",
    "\n",
    "cur.execute('SELECT communityhealthunitid,communityhealthunitname,linkfacility,wardid from communityhealthunits')\n",
    "df_chu = cur.fetchall()\n",
    "df_chu = pd.DataFrame(df_chu)\n",
    "df_chu.columns = ['chu_id','chu_name','link_fac','ward_id']\n",
    "\n",
    "cur.execute('SELECT wardid,wardname,subcountyid,latitude,longitude from wards')\n",
    "df_wards = cur.fetchall()\n",
    "df_wards = pd.DataFrame(df_wards)\n",
    "df_wards.columns = ['ward_id','ward_name','subcounty_id','lat_ward','lon_ward']\n",
    "\n",
    "cur.execute('SELECT subcountyid, subcountyname,countyid,latitude,longitude from subcounties')\n",
    "df_subcounty = cur.fetchall()\n",
    "df_subcounty = pd.DataFrame(df_subcounty)\n",
    "df_subcounty.columns = ['subcounty_id','subcounty_name','county_id','lat_subcounty','lon_subcounty']\n",
    "\n",
    "cur.execute('SELECT countyid,countyname,countryid from counties')\n",
    "df_county = cur.fetchall()\n",
    "df_county = pd.DataFrame(df_county)\n",
    "df_county.columns = ['county_id','county_name','country_id']\n",
    "\n",
    "cur.execute('SELECT countryid,countryname from countries')\n",
    "df_country = cur.fetchall()\n",
    "df_country = pd.DataFrame(df_country)\n",
    "df_country.columns = ['country_id','country_name']\n",
    "\n",
    "\n",
    "df_ADMN = pd.merge(df_country,df_county,on='country_id')\n",
    "df_ADMN = df_ADMN[df_ADMN['country_name']=='Kenya']\n",
    "df_ADMN = df_ADMN[df_ADMN['county_name'].isin(['Kilifi','Makueni','Meru','Taita-Taveta','Migori','Kakamega'])]\n",
    "\n",
    "df_ADMN = pd.merge(df_ADMN,df_subcounty,on='county_id')\n",
    "df_ADMN = pd.merge(df_ADMN,df_wards,on='subcounty_id')\n",
    "df_ADMN = pd.merge(df_ADMN,df_chu,on='ward_id')\n",
    "df_ADMN = pd.merge(df_ADMN,df_village,on='chu_id')\n",
    "df_ADMN = pd.merge(df_ADMN,df_hh,on='village_id')"
   ]
  },
  {
   "cell_type": "code",
   "execution_count": 54,
   "metadata": {},
   "outputs": [
    {
     "data": {
      "text/html": [
       "<div>\n",
       "<style scoped>\n",
       "    .dataframe tbody tr th:only-of-type {\n",
       "        vertical-align: middle;\n",
       "    }\n",
       "\n",
       "    .dataframe tbody tr th {\n",
       "        vertical-align: top;\n",
       "    }\n",
       "\n",
       "    .dataframe thead th {\n",
       "        text-align: right;\n",
       "    }\n",
       "</style>\n",
       "<table border=\"1\" class=\"dataframe\">\n",
       "  <thead>\n",
       "    <tr style=\"text-align: right;\">\n",
       "      <th></th>\n",
       "      <th>country_id</th>\n",
       "      <th>country_name</th>\n",
       "      <th>county_id</th>\n",
       "      <th>county_name</th>\n",
       "      <th>subcounty_id</th>\n",
       "      <th>subcounty_name</th>\n",
       "      <th>lat_subcounty</th>\n",
       "      <th>lon_subcounty</th>\n",
       "      <th>ward_id</th>\n",
       "      <th>ward_name</th>\n",
       "      <th>lat_ward</th>\n",
       "      <th>lon_ward</th>\n",
       "      <th>chu_id</th>\n",
       "      <th>chu_name</th>\n",
       "      <th>link_fac</th>\n",
       "      <th>village_id</th>\n",
       "      <th>village_name</th>\n",
       "      <th>hh_num</th>\n",
       "      <th>hh_id</th>\n",
       "    </tr>\n",
       "  </thead>\n",
       "  <tbody>\n",
       "    <tr>\n",
       "      <th>0</th>\n",
       "      <td>1</td>\n",
       "      <td>Kenya</td>\n",
       "      <td>3</td>\n",
       "      <td>Kilifi</td>\n",
       "      <td>11</td>\n",
       "      <td>Kilifi North</td>\n",
       "      <td>-3.510651</td>\n",
       "      <td>39.909327</td>\n",
       "      <td>51</td>\n",
       "      <td>Tezo</td>\n",
       "      <td>-3.576325</td>\n",
       "      <td>39.868198</td>\n",
       "      <td>1498</td>\n",
       "      <td>ZOWERANI CU</td>\n",
       "      <td>1016</td>\n",
       "      <td>7262</td>\n",
       "      <td>SOYO SOYO</td>\n",
       "      <td>30743964861AS0203FUJMERTP</td>\n",
       "      <td>435321</td>\n",
       "    </tr>\n",
       "    <tr>\n",
       "      <th>1</th>\n",
       "      <td>1</td>\n",
       "      <td>Kenya</td>\n",
       "      <td>3</td>\n",
       "      <td>Kilifi</td>\n",
       "      <td>11</td>\n",
       "      <td>Kilifi North</td>\n",
       "      <td>-3.510651</td>\n",
       "      <td>39.909327</td>\n",
       "      <td>51</td>\n",
       "      <td>Tezo</td>\n",
       "      <td>-3.576325</td>\n",
       "      <td>39.868198</td>\n",
       "      <td>1498</td>\n",
       "      <td>ZOWERANI CU</td>\n",
       "      <td>1016</td>\n",
       "      <td>7262</td>\n",
       "      <td>SOYO SOYO</td>\n",
       "      <td>30743964861B0EAI0EXWKWCAJ</td>\n",
       "      <td>435525</td>\n",
       "    </tr>\n",
       "    <tr>\n",
       "      <th>2</th>\n",
       "      <td>1</td>\n",
       "      <td>Kenya</td>\n",
       "      <td>3</td>\n",
       "      <td>Kilifi</td>\n",
       "      <td>11</td>\n",
       "      <td>Kilifi North</td>\n",
       "      <td>-3.510651</td>\n",
       "      <td>39.909327</td>\n",
       "      <td>51</td>\n",
       "      <td>Tezo</td>\n",
       "      <td>-3.576325</td>\n",
       "      <td>39.868198</td>\n",
       "      <td>1498</td>\n",
       "      <td>ZOWERANI CU</td>\n",
       "      <td>1016</td>\n",
       "      <td>7262</td>\n",
       "      <td>SOYO SOYO</td>\n",
       "      <td>30743964861ZEW4CTL54E5G4Q</td>\n",
       "      <td>435760</td>\n",
       "    </tr>\n",
       "    <tr>\n",
       "      <th>3</th>\n",
       "      <td>1</td>\n",
       "      <td>Kenya</td>\n",
       "      <td>3</td>\n",
       "      <td>Kilifi</td>\n",
       "      <td>11</td>\n",
       "      <td>Kilifi North</td>\n",
       "      <td>-3.510651</td>\n",
       "      <td>39.909327</td>\n",
       "      <td>51</td>\n",
       "      <td>Tezo</td>\n",
       "      <td>-3.576325</td>\n",
       "      <td>39.868198</td>\n",
       "      <td>1498</td>\n",
       "      <td>ZOWERANI CU</td>\n",
       "      <td>1016</td>\n",
       "      <td>7262</td>\n",
       "      <td>SOYO SOYO</td>\n",
       "      <td>30743964861N29JOY2288RIN8</td>\n",
       "      <td>435894</td>\n",
       "    </tr>\n",
       "    <tr>\n",
       "      <th>4</th>\n",
       "      <td>1</td>\n",
       "      <td>Kenya</td>\n",
       "      <td>3</td>\n",
       "      <td>Kilifi</td>\n",
       "      <td>11</td>\n",
       "      <td>Kilifi North</td>\n",
       "      <td>-3.510651</td>\n",
       "      <td>39.909327</td>\n",
       "      <td>51</td>\n",
       "      <td>Tezo</td>\n",
       "      <td>-3.576325</td>\n",
       "      <td>39.868198</td>\n",
       "      <td>1498</td>\n",
       "      <td>ZOWERANI CU</td>\n",
       "      <td>1016</td>\n",
       "      <td>7262</td>\n",
       "      <td>SOYO SOYO</td>\n",
       "      <td>30743964861AC6CWRF9JUH1SK</td>\n",
       "      <td>436229</td>\n",
       "    </tr>\n",
       "  </tbody>\n",
       "</table>\n",
       "</div>"
      ],
      "text/plain": [
       "   country_id country_name  county_id county_name  subcounty_id  \\\n",
       "0           1        Kenya          3      Kilifi            11   \n",
       "1           1        Kenya          3      Kilifi            11   \n",
       "2           1        Kenya          3      Kilifi            11   \n",
       "3           1        Kenya          3      Kilifi            11   \n",
       "4           1        Kenya          3      Kilifi            11   \n",
       "\n",
       "  subcounty_name  lat_subcounty  lon_subcounty  ward_id ward_name  lat_ward  \\\n",
       "0   Kilifi North      -3.510651      39.909327       51      Tezo -3.576325   \n",
       "1   Kilifi North      -3.510651      39.909327       51      Tezo -3.576325   \n",
       "2   Kilifi North      -3.510651      39.909327       51      Tezo -3.576325   \n",
       "3   Kilifi North      -3.510651      39.909327       51      Tezo -3.576325   \n",
       "4   Kilifi North      -3.510651      39.909327       51      Tezo -3.576325   \n",
       "\n",
       "    lon_ward  chu_id     chu_name  link_fac  village_id village_name  \\\n",
       "0  39.868198    1498  ZOWERANI CU      1016        7262    SOYO SOYO   \n",
       "1  39.868198    1498  ZOWERANI CU      1016        7262    SOYO SOYO   \n",
       "2  39.868198    1498  ZOWERANI CU      1016        7262    SOYO SOYO   \n",
       "3  39.868198    1498  ZOWERANI CU      1016        7262    SOYO SOYO   \n",
       "4  39.868198    1498  ZOWERANI CU      1016        7262    SOYO SOYO   \n",
       "\n",
       "                      hh_num   hh_id  \n",
       "0  30743964861AS0203FUJMERTP  435321  \n",
       "1  30743964861B0EAI0EXWKWCAJ  435525  \n",
       "2  30743964861ZEW4CTL54E5G4Q  435760  \n",
       "3  30743964861N29JOY2288RIN8  435894  \n",
       "4  30743964861AC6CWRF9JUH1SK  436229  "
      ]
     },
     "execution_count": 54,
     "metadata": {},
     "output_type": "execute_result"
    }
   ],
   "source": [
    "df_ADMN.head()"
   ]
  },
  {
   "cell_type": "code",
   "execution_count": 55,
   "metadata": {},
   "outputs": [
    {
     "data": {
      "text/plain": [
       "country_id            0\n",
       "country_name          0\n",
       "county_id             0\n",
       "county_name           0\n",
       "subcounty_id          0\n",
       "subcounty_name        0\n",
       "lat_subcounty         0\n",
       "lon_subcounty         0\n",
       "ward_id               0\n",
       "ward_name             0\n",
       "lat_ward          17047\n",
       "lon_ward          17047\n",
       "chu_id                0\n",
       "chu_name              0\n",
       "link_fac              0\n",
       "village_id            0\n",
       "village_name          0\n",
       "hh_num                0\n",
       "hh_id                 0\n",
       "dtype: int64"
      ]
     },
     "execution_count": 55,
     "metadata": {},
     "output_type": "execute_result"
    }
   ],
   "source": [
    "df_ADMN.isnull().sum()"
   ]
  },
  {
   "cell_type": "markdown",
   "metadata": {},
   "source": [
    "Next steps\n",
    "\n",
    "1. Merge df_ADMN, df_HSE, df_nspn using hh_id\n",
    "2. Augment external facility data (name and geopoints) and combine with the final merged data\n",
    "3. Improve our dataset to have categories of poverty levels based on percerntiles using the urban and rural PMT scores. PMT scores are usually ranked to indicate as the rank increases, the household becomes poorer\n",
    "\n",
    "the categories will be:\n",
    "\n",
    "    very poor (<=25th percerntiles)\n",
    "    poor (>25th percerntiles and <50th percerntiles)\n",
    "    middle (>=50th percerntiles and <75th percerntiles)\n",
    "    Better off (>75th percerntiles)"
   ]
  },
  {
   "cell_type": "code",
   "execution_count": 56,
   "metadata": {},
   "outputs": [
    {
     "data": {
      "text/plain": [
       "718065"
      ]
     },
     "metadata": {},
     "output_type": "display_data"
    },
    {
     "data": {
      "text/plain": [
       "798794"
      ]
     },
     "metadata": {},
     "output_type": "display_data"
    },
    {
     "data": {
      "text/plain": [
       "496033"
      ]
     },
     "metadata": {},
     "output_type": "display_data"
    }
   ],
   "source": [
    "display(df_ADMN['hh_id'].nunique())\n",
    "display(df_HSE['hh_id'].nunique())\n",
    "display(df_nspn['hh_id'].nunique())"
   ]
  },
  {
   "cell_type": "code",
   "execution_count": 62,
   "metadata": {},
   "outputs": [
    {
     "data": {
      "text/plain": [
       "495043"
      ]
     },
     "execution_count": 62,
     "metadata": {},
     "output_type": "execute_result"
    }
   ],
   "source": [
    "x = set(df_ADMN['hh_id'].unique())\n",
    "y = set(df_HSE['hh_id'].unique())\n",
    "z = set(df_nspn['hh_id'].unique())\n",
    "len(x.intersection(z))"
   ]
  },
  {
   "cell_type": "code",
   "execution_count": null,
   "metadata": {},
   "outputs": [],
   "source": [
    "dt = df_ADMN.merge(df_HSE,on = \"hh_id\",how = \"left\");print(dt.shape,df_ADMN.shape,df_HSE.shape)\n",
    "dt1 = dt.merge(df_nspn,on = \"hh_id\",how = \"left\");dt1.shape\n",
    "\n",
    "\n",
    "%%time\n",
    "\n",
    "from sqlalchemy import create_engine\n",
    " \n",
    "engine = create_engine(url=r\"postgresql://{0}:{1}@{2}/{3}\".format(username, password, host, 'PMT_UHC'))\n",
    "\n",
    "# attach the data frame to the sql\n",
    "# with a name of the table\n",
    "# as \"insurance_coverage\" \n",
    "# *this code replaces the existing table everytime, but can be modified to append to the existing data\n",
    "\n",
    "dt1.to_sql('Pmt_uhc', con = engine, if_exists=\"replace\")"
   ]
  }
 ],
 "metadata": {
  "kernelspec": {
   "display_name": "Python 3 (ipykernel)",
   "language": "python",
   "name": "python3"
  },
  "language_info": {
   "codemirror_mode": {
    "name": "ipython",
    "version": 3
   },
   "file_extension": ".py",
   "mimetype": "text/x-python",
   "name": "python",
   "nbconvert_exporter": "python",
   "pygments_lexer": "ipython3",
   "version": "3.10.4 | packaged by conda-forge | (main, Mar 30 2022, 08:38:02) [MSC v.1916 64 bit (AMD64)]"
  },
  "vscode": {
   "interpreter": {
    "hash": "17c2da8f4632b1b7aa290bd0850d0e209ad6daa59576c5ca4df3f54f22cec344"
   }
  }
 },
 "nbformat": 4,
 "nbformat_minor": 2
}

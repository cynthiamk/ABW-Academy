{
 "cells": [
  {
   "cell_type": "markdown",
   "id": "7d90879b",
   "metadata": {},
   "source": [
    "### Modelling the PMS data \n",
    "\n",
    "\n",
    "Household vulnerability assessment will be categorised as follows using a percentile of ranked household PMT scores;\n",
    "\n",
    "1. Very poor  <= 25th percentile>\n",
    "2. Poor >25th percentile and <=50th percentile>\n",
    "3. Middle >50 and <= 75th percentile>\n",
    "4. Better off >= 75th percentile"
   ]
  },
  {
   "cell_type": "code",
   "execution_count": 1,
   "id": "d64b2f43",
   "metadata": {},
   "outputs": [],
   "source": [
    "import psycopg2\n",
    "import pandas as pd\n",
    "import datetime"
   ]
  },
  {
   "cell_type": "code",
   "execution_count": 2,
   "id": "f8ae5380",
   "metadata": {},
   "outputs": [],
   "source": [
    "host = 'Enter host name here'\n",
    "username = 'Enter username here'\n",
    "password = 'Enter password here'"
   ]
  },
  {
   "cell_type": "code",
   "execution_count": 3,
   "id": "1a576b7f",
   "metadata": {},
   "outputs": [],
   "source": [
    "def get_db_connection(host,username,password):\n",
    "    conn = psycopg2.connect(\n",
    "        host= host,\n",
    "        database= \"PMT_UHC\",\n",
    "        user= username,\n",
    "        password= password)\n",
    "    return conn"
   ]
  },
  {
   "cell_type": "code",
   "execution_count": 4,
   "id": "6fa25b15",
   "metadata": {},
   "outputs": [],
   "source": [
    "conn = get_db_connection(host,username,password)\n",
    "cur = conn.cursor()"
   ]
  },
  {
   "cell_type": "code",
   "execution_count": 5,
   "id": "2239dd3b",
   "metadata": {},
   "outputs": [],
   "source": [
    "# SELECT \"index\", country_id, country_name, county_id, county_name, subcounty_id, subcounty_name, lat_subcounty, lon_subcounty, ward_id, ward_name, lat_ward, lon_ward, chu_id, chu_name, link_fac, village_id_x, village_name, hh_num, hh_id, village_id_y, lat, long, member_number, marital_status, max_education, village_number, urban_constant_figure, rural_constant_figure, nairobi_constant_figure, past_week_activity, weight_status, employment\n",
    "# FROM public.\"Pmt_uhc\";"
   ]
  },
  {
   "cell_type": "code",
   "execution_count": 6,
   "id": "8552f97d",
   "metadata": {},
   "outputs": [
    {
     "name": "stdout",
     "output_type": "stream",
     "text": [
      "CPU times: total: 31.8 s\n",
      "Wall time: 4min 55s\n"
     ]
    }
   ],
   "source": [
    "%%time\n",
    "cur.execute('SELECT country_id, country_name, county_id, county_name, subcounty_id, subcounty_name, lat_subcounty, lon_subcounty, ward_id, ward_name, lat_ward, lon_ward, chu_id, chu_name, link_fac, village_id_x, village_name, hh_num, hh_id, village_id_y, lat, long, member_number, marital_status, max_education, village_number, urban_constant_figure, rural_constant_figure, nairobi_constant_figure, past_week_activity, weight_status, employment from pmt_uhc')\n",
    "df = cur.fetchall()\n",
    "df = pd.DataFrame(df)\n"
   ]
  },
  {
   "cell_type": "code",
   "execution_count": 7,
   "id": "0bef9b68",
   "metadata": {},
   "outputs": [
    {
     "data": {
      "text/html": [
       "<div>\n",
       "<style scoped>\n",
       "    .dataframe tbody tr th:only-of-type {\n",
       "        vertical-align: middle;\n",
       "    }\n",
       "\n",
       "    .dataframe tbody tr th {\n",
       "        vertical-align: top;\n",
       "    }\n",
       "\n",
       "    .dataframe thead th {\n",
       "        text-align: right;\n",
       "    }\n",
       "</style>\n",
       "<table border=\"1\" class=\"dataframe\">\n",
       "  <thead>\n",
       "    <tr style=\"text-align: right;\">\n",
       "      <th></th>\n",
       "      <th>country_id</th>\n",
       "      <th>country_name</th>\n",
       "      <th>county_id</th>\n",
       "      <th>county_name</th>\n",
       "      <th>subcounty_id</th>\n",
       "      <th>subcounty_name</th>\n",
       "      <th>lat_subcounty</th>\n",
       "      <th>lon_subcounty</th>\n",
       "      <th>ward_id</th>\n",
       "      <th>ward_name</th>\n",
       "      <th>...</th>\n",
       "      <th>member_number</th>\n",
       "      <th>marital_status</th>\n",
       "      <th>max_education</th>\n",
       "      <th>village_number</th>\n",
       "      <th>urban_constant_figure</th>\n",
       "      <th>rural_constant_figure</th>\n",
       "      <th>nairobi_constant_figure</th>\n",
       "      <th>past_week_activity</th>\n",
       "      <th>weight_status</th>\n",
       "      <th>employment</th>\n",
       "    </tr>\n",
       "  </thead>\n",
       "  <tbody>\n",
       "    <tr>\n",
       "      <th>0</th>\n",
       "      <td>1</td>\n",
       "      <td>Kenya</td>\n",
       "      <td>3</td>\n",
       "      <td>Kilifi</td>\n",
       "      <td>11</td>\n",
       "      <td>Kilifi North</td>\n",
       "      <td>-3.510651</td>\n",
       "      <td>39.909327</td>\n",
       "      <td>51</td>\n",
       "      <td>Tezo</td>\n",
       "      <td>...</td>\n",
       "      <td>307439648614847474C59EAFE4KAWIQ5</td>\n",
       "      <td>Widowed</td>\n",
       "      <td>Pre-Primary</td>\n",
       "      <td>7262.0</td>\n",
       "      <td>8.71438</td>\n",
       "      <td>0.0</td>\n",
       "      <td>0.0</td>\n",
       "      <td>No work available</td>\n",
       "      <td>Urban</td>\n",
       "      <td>Not Employed</td>\n",
       "    </tr>\n",
       "    <tr>\n",
       "      <th>1</th>\n",
       "      <td>1</td>\n",
       "      <td>Kenya</td>\n",
       "      <td>3</td>\n",
       "      <td>Kilifi</td>\n",
       "      <td>11</td>\n",
       "      <td>Kilifi North</td>\n",
       "      <td>-3.510651</td>\n",
       "      <td>39.909327</td>\n",
       "      <td>51</td>\n",
       "      <td>Tezo</td>\n",
       "      <td>...</td>\n",
       "      <td>307439648617726638L85LFASP9WP9U5</td>\n",
       "      <td>Married mono-gamous</td>\n",
       "      <td>Pre-Primary</td>\n",
       "      <td>7262.0</td>\n",
       "      <td>8.89718</td>\n",
       "      <td>0.0</td>\n",
       "      <td>0.0</td>\n",
       "      <td>No work available</td>\n",
       "      <td>Urban</td>\n",
       "      <td>Not Employed</td>\n",
       "    </tr>\n",
       "    <tr>\n",
       "      <th>2</th>\n",
       "      <td>1</td>\n",
       "      <td>Kenya</td>\n",
       "      <td>3</td>\n",
       "      <td>Kilifi</td>\n",
       "      <td>11</td>\n",
       "      <td>Kilifi North</td>\n",
       "      <td>-3.510651</td>\n",
       "      <td>39.909327</td>\n",
       "      <td>51</td>\n",
       "      <td>Tezo</td>\n",
       "      <td>...</td>\n",
       "      <td>307439648617148812S57KM9CEMV8VO2</td>\n",
       "      <td>Married mono-gamous</td>\n",
       "      <td>Pre-Primary</td>\n",
       "      <td>7262.0</td>\n",
       "      <td>8.72218</td>\n",
       "      <td>0.0</td>\n",
       "      <td>0.0</td>\n",
       "      <td>No work available</td>\n",
       "      <td>Urban</td>\n",
       "      <td>Not Employed</td>\n",
       "    </tr>\n",
       "    <tr>\n",
       "      <th>3</th>\n",
       "      <td>1</td>\n",
       "      <td>Kenya</td>\n",
       "      <td>3</td>\n",
       "      <td>Kilifi</td>\n",
       "      <td>11</td>\n",
       "      <td>Kilifi North</td>\n",
       "      <td>-3.510651</td>\n",
       "      <td>39.909327</td>\n",
       "      <td>51</td>\n",
       "      <td>Tezo</td>\n",
       "      <td>...</td>\n",
       "      <td>307439648616579485TNYFIYARM5SCFZ</td>\n",
       "      <td>Widowed</td>\n",
       "      <td>Pre-Primary</td>\n",
       "      <td>7262.0</td>\n",
       "      <td>8.71438</td>\n",
       "      <td>0.0</td>\n",
       "      <td>0.0</td>\n",
       "      <td>No work available</td>\n",
       "      <td>Urban</td>\n",
       "      <td>Not Employed</td>\n",
       "    </tr>\n",
       "    <tr>\n",
       "      <th>4</th>\n",
       "      <td>1</td>\n",
       "      <td>Kenya</td>\n",
       "      <td>3</td>\n",
       "      <td>Kilifi</td>\n",
       "      <td>11</td>\n",
       "      <td>Kilifi North</td>\n",
       "      <td>-3.510651</td>\n",
       "      <td>39.909327</td>\n",
       "      <td>51</td>\n",
       "      <td>Tezo</td>\n",
       "      <td>...</td>\n",
       "      <td>3074396486112467629JEX82JXMOQCVN</td>\n",
       "      <td>Married mono-gamous</td>\n",
       "      <td>Secondary</td>\n",
       "      <td>7262.0</td>\n",
       "      <td>9.42108</td>\n",
       "      <td>0.0</td>\n",
       "      <td>0.0</td>\n",
       "      <td>Worked for pay</td>\n",
       "      <td>Urban</td>\n",
       "      <td>Employed</td>\n",
       "    </tr>\n",
       "  </tbody>\n",
       "</table>\n",
       "<p>5 rows × 32 columns</p>\n",
       "</div>"
      ],
      "text/plain": [
       "   country_id country_name  county_id county_name  subcounty_id  \\\n",
       "0           1        Kenya          3      Kilifi            11   \n",
       "1           1        Kenya          3      Kilifi            11   \n",
       "2           1        Kenya          3      Kilifi            11   \n",
       "3           1        Kenya          3      Kilifi            11   \n",
       "4           1        Kenya          3      Kilifi            11   \n",
       "\n",
       "  subcounty_name  lat_subcounty  lon_subcounty  ward_id ward_name  ...  \\\n",
       "0   Kilifi North      -3.510651      39.909327       51      Tezo  ...   \n",
       "1   Kilifi North      -3.510651      39.909327       51      Tezo  ...   \n",
       "2   Kilifi North      -3.510651      39.909327       51      Tezo  ...   \n",
       "3   Kilifi North      -3.510651      39.909327       51      Tezo  ...   \n",
       "4   Kilifi North      -3.510651      39.909327       51      Tezo  ...   \n",
       "\n",
       "                      member_number       marital_status  max_education  \\\n",
       "0  307439648614847474C59EAFE4KAWIQ5              Widowed    Pre-Primary   \n",
       "1  307439648617726638L85LFASP9WP9U5  Married mono-gamous    Pre-Primary   \n",
       "2  307439648617148812S57KM9CEMV8VO2  Married mono-gamous    Pre-Primary   \n",
       "3  307439648616579485TNYFIYARM5SCFZ              Widowed    Pre-Primary   \n",
       "4  3074396486112467629JEX82JXMOQCVN  Married mono-gamous      Secondary   \n",
       "\n",
       "  village_number  urban_constant_figure  rural_constant_figure  \\\n",
       "0         7262.0                8.71438                    0.0   \n",
       "1         7262.0                8.89718                    0.0   \n",
       "2         7262.0                8.72218                    0.0   \n",
       "3         7262.0                8.71438                    0.0   \n",
       "4         7262.0                9.42108                    0.0   \n",
       "\n",
       "  nairobi_constant_figure past_week_activity  weight_status    employment  \n",
       "0                     0.0  No work available          Urban  Not Employed  \n",
       "1                     0.0  No work available          Urban  Not Employed  \n",
       "2                     0.0  No work available          Urban  Not Employed  \n",
       "3                     0.0  No work available          Urban  Not Employed  \n",
       "4                     0.0     Worked for pay          Urban      Employed  \n",
       "\n",
       "[5 rows x 32 columns]"
      ]
     },
     "execution_count": 7,
     "metadata": {},
     "output_type": "execute_result"
    }
   ],
   "source": [
    "df.columns = [\"country_id\", \"country_name\", \"county_id\", \"county_name\", \"subcounty_id\", \"subcounty_name\", \"lat_subcounty\", \"lon_subcounty\", \"ward_id\", \"ward_name\", \"lat_ward\", \"lon_ward\", \"chu_id\", \"chu_name\", \"link_fac\", \"village_id_x\", \"village_name\", \"hh_num\", \"hh_id\", \"village_id_y\", \"lat\", \"long\", \"member_number\", \"marital_status\", \"max_education\", \"village_number\", \"urban_constant_figure\", \"rural_constant_figure\", \"nairobi_constant_figure\", \"past_week_activity\", \"weight_status\", \"employment\"]\n",
    "df.head()"
   ]
  },
  {
   "cell_type": "code",
   "execution_count": 8,
   "id": "5f9fb9f1",
   "metadata": {},
   "outputs": [
    {
     "data": {
      "text/plain": [
       "Rural    420141\n",
       "Urban     98252\n",
       "Name: weight_status, dtype: int64"
      ]
     },
     "execution_count": 8,
     "metadata": {},
     "output_type": "execute_result"
    }
   ],
   "source": [
    "df1 = df[df['weight_status'].isin([\"Rural\",\"Urban\"])]\n",
    "df1['weight_status'].value_counts()\n"
   ]
  },
  {
   "cell_type": "code",
   "execution_count": 9,
   "id": "2a77cf85",
   "metadata": {},
   "outputs": [
    {
     "data": {
      "text/plain": [
       "array([[<AxesSubplot:title={'center':'urban_constant_figure'}>,\n",
       "        <AxesSubplot:title={'center':'rural_constant_figure'}>]],\n",
       "      dtype=object)"
      ]
     },
     "execution_count": 9,
     "metadata": {},
     "output_type": "execute_result"
    },
    {
     "data": {
      "image/png": "[encoded data removed]",
      "text/plain": [
       "<Figure size 432x288 with 2 Axes>"
      ]
     },
     "metadata": {
      "needs_background": "light"
     },
     "output_type": "display_data"
    }
   ],
   "source": [
    "df1[['urban_constant_figure','rural_constant_figure']].hist()"
   ]
  },
  {
   "cell_type": "code",
   "execution_count": 10,
   "id": "c68b77c6",
   "metadata": {},
   "outputs": [
    {
     "ename": "KeyError",
     "evalue": "\"['PMT'] not in index\"",
     "output_type": "error",
     "traceback": [
      "\u001b[1;31m---------------------------------------------------------------------------\u001b[0m",
      "\u001b[1;31mKeyError\u001b[0m                                  Traceback (most recent call last)",
      "Input \u001b[1;32mIn [10]\u001b[0m, in \u001b[0;36m<cell line: 1>\u001b[1;34m()\u001b[0m\n\u001b[1;32m----> 1\u001b[0m \u001b[43mdf1\u001b[49m\u001b[43m[\u001b[49m\u001b[43m[\u001b[49m\u001b[38;5;124;43m'\u001b[39;49m\u001b[38;5;124;43murban_constant_figure\u001b[39;49m\u001b[38;5;124;43m'\u001b[39;49m\u001b[43m,\u001b[49m\u001b[38;5;124;43m'\u001b[39;49m\u001b[38;5;124;43mrural_constant_figure\u001b[39;49m\u001b[38;5;124;43m'\u001b[39;49m\u001b[43m,\u001b[49m\u001b[38;5;124;43m\"\u001b[39;49m\u001b[38;5;124;43mPMT\u001b[39;49m\u001b[38;5;124;43m\"\u001b[39;49m\u001b[43m]\u001b[49m\u001b[43m]\u001b[49m\u001b[38;5;241m.\u001b[39mdescribe()\n",
      "File \u001b[1;32m~\\.conda\\envs\\DataSciences\\lib\\site-packages\\pandas\\core\\frame.py:3511\u001b[0m, in \u001b[0;36mDataFrame.__getitem__\u001b[1;34m(self, key)\u001b[0m\n\u001b[0;32m   3509\u001b[0m     \u001b[38;5;28;01mif\u001b[39;00m is_iterator(key):\n\u001b[0;32m   3510\u001b[0m         key \u001b[38;5;241m=\u001b[39m \u001b[38;5;28mlist\u001b[39m(key)\n\u001b[1;32m-> 3511\u001b[0m     indexer \u001b[38;5;241m=\u001b[39m \u001b[38;5;28;43mself\u001b[39;49m\u001b[38;5;241;43m.\u001b[39;49m\u001b[43mcolumns\u001b[49m\u001b[38;5;241;43m.\u001b[39;49m\u001b[43m_get_indexer_strict\u001b[49m\u001b[43m(\u001b[49m\u001b[43mkey\u001b[49m\u001b[43m,\u001b[49m\u001b[43m \u001b[49m\u001b[38;5;124;43m\"\u001b[39;49m\u001b[38;5;124;43mcolumns\u001b[39;49m\u001b[38;5;124;43m\"\u001b[39;49m\u001b[43m)\u001b[49m[\u001b[38;5;241m1\u001b[39m]\n\u001b[0;32m   3513\u001b[0m \u001b[38;5;66;03m# take() does not accept boolean indexers\u001b[39;00m\n\u001b[0;32m   3514\u001b[0m \u001b[38;5;28;01mif\u001b[39;00m \u001b[38;5;28mgetattr\u001b[39m(indexer, \u001b[38;5;124m\"\u001b[39m\u001b[38;5;124mdtype\u001b[39m\u001b[38;5;124m\"\u001b[39m, \u001b[38;5;28;01mNone\u001b[39;00m) \u001b[38;5;241m==\u001b[39m \u001b[38;5;28mbool\u001b[39m:\n",
      "File \u001b[1;32m~\\.conda\\envs\\DataSciences\\lib\\site-packages\\pandas\\core\\indexes\\base.py:5782\u001b[0m, in \u001b[0;36mIndex._get_indexer_strict\u001b[1;34m(self, key, axis_name)\u001b[0m\n\u001b[0;32m   5779\u001b[0m \u001b[38;5;28;01melse\u001b[39;00m:\n\u001b[0;32m   5780\u001b[0m     keyarr, indexer, new_indexer \u001b[38;5;241m=\u001b[39m \u001b[38;5;28mself\u001b[39m\u001b[38;5;241m.\u001b[39m_reindex_non_unique(keyarr)\n\u001b[1;32m-> 5782\u001b[0m \u001b[38;5;28;43mself\u001b[39;49m\u001b[38;5;241;43m.\u001b[39;49m\u001b[43m_raise_if_missing\u001b[49m\u001b[43m(\u001b[49m\u001b[43mkeyarr\u001b[49m\u001b[43m,\u001b[49m\u001b[43m \u001b[49m\u001b[43mindexer\u001b[49m\u001b[43m,\u001b[49m\u001b[43m \u001b[49m\u001b[43maxis_name\u001b[49m\u001b[43m)\u001b[49m\n\u001b[0;32m   5784\u001b[0m keyarr \u001b[38;5;241m=\u001b[39m \u001b[38;5;28mself\u001b[39m\u001b[38;5;241m.\u001b[39mtake(indexer)\n\u001b[0;32m   5785\u001b[0m \u001b[38;5;28;01mif\u001b[39;00m \u001b[38;5;28misinstance\u001b[39m(key, Index):\n\u001b[0;32m   5786\u001b[0m     \u001b[38;5;66;03m# GH 42790 - Preserve name from an Index\u001b[39;00m\n",
      "File \u001b[1;32m~\\.conda\\envs\\DataSciences\\lib\\site-packages\\pandas\\core\\indexes\\base.py:5845\u001b[0m, in \u001b[0;36mIndex._raise_if_missing\u001b[1;34m(self, key, indexer, axis_name)\u001b[0m\n\u001b[0;32m   5842\u001b[0m     \u001b[38;5;28;01mraise\u001b[39;00m \u001b[38;5;167;01mKeyError\u001b[39;00m(\u001b[38;5;124mf\u001b[39m\u001b[38;5;124m\"\u001b[39m\u001b[38;5;124mNone of [\u001b[39m\u001b[38;5;132;01m{\u001b[39;00mkey\u001b[38;5;132;01m}\u001b[39;00m\u001b[38;5;124m] are in the [\u001b[39m\u001b[38;5;132;01m{\u001b[39;00maxis_name\u001b[38;5;132;01m}\u001b[39;00m\u001b[38;5;124m]\u001b[39m\u001b[38;5;124m\"\u001b[39m)\n\u001b[0;32m   5844\u001b[0m not_found \u001b[38;5;241m=\u001b[39m \u001b[38;5;28mlist\u001b[39m(ensure_index(key)[missing_mask\u001b[38;5;241m.\u001b[39mnonzero()[\u001b[38;5;241m0\u001b[39m]]\u001b[38;5;241m.\u001b[39munique())\n\u001b[1;32m-> 5845\u001b[0m \u001b[38;5;28;01mraise\u001b[39;00m \u001b[38;5;167;01mKeyError\u001b[39;00m(\u001b[38;5;124mf\u001b[39m\u001b[38;5;124m\"\u001b[39m\u001b[38;5;132;01m{\u001b[39;00mnot_found\u001b[38;5;132;01m}\u001b[39;00m\u001b[38;5;124m not in index\u001b[39m\u001b[38;5;124m\"\u001b[39m)\n",
      "\u001b[1;31mKeyError\u001b[0m: \"['PMT'] not in index\""
     ]
    }
   ],
   "source": [
    "df1[['urban_constant_figure','rural_constant_figure',\"PMT\"]].describe()"
   ]
  },
  {
   "cell_type": "code",
   "execution_count": null,
   "id": "83dc0a25",
   "metadata": {},
   "outputs": [],
   "source": [
    "df1[\"Target\"] = ['very_poor' if i <2.5 else 'poor' if i<5 else 'middle' if i<7.5 else 'better off' for i in df1['PMT']]"
   ]
  },
  {
   "cell_type": "code",
   "execution_count": null,
   "id": "e4aa2eb1",
   "metadata": {},
   "outputs": [],
   "source": [
    "# Test code\n",
    "import numpy as np\n",
    "x = np.array([10,7,6,2,5,1,9])\n",
    "y = pd.Series(x)\n",
    "y.quantile(0.5)"
   ]
  },
  {
   "cell_type": "code",
   "execution_count": null,
   "id": "39563b78",
   "metadata": {},
   "outputs": [],
   "source": [
    "y.median()"
   ]
  },
  {
   "cell_type": "code",
   "execution_count": null,
   "id": "15a290b8",
   "metadata": {},
   "outputs": [],
   "source": [
    "y = df1['urban_constant_figure'][df1['urban_constant_figure']>0]\n",
    "lower = y.quantile(0.25)\n",
    "mid = y.quantile(0.5)\n",
    "upper = y.quantile(0.75)\n",
    "print(y.min(),lower,mid,upper,y.max())\n",
    "df1[\"PMT_urban\"] = [\"##\" if i <=0.0 else 'betteroff' if i <=lower else \"middle\"if i<=mid else \"poor\" if i<= upper else \"very_poor\" for i in df1['urban_constant_figure']]\n",
    "df1[\"PMT_urban\"].value_counts()"
   ]
  },
  {
   "cell_type": "code",
   "execution_count": null,
   "id": "befda426",
   "metadata": {
    "scrolled": true
   },
   "outputs": [],
   "source": [
    "y = df1['rural_constant_figure'][df1['rural_constant_figure']>0]\n",
    "lower = y.quantile(0.25)\n",
    "mid = y.quantile(0.5)\n",
    "upper = y.quantile(0.75)\n",
    "print(y.min(),lower,mid,upper,y.max())\n",
    "df1[\"PMT_rural\"] = [\"##\" if i <=0.0 else 'betteroff' if i <=lower else \"middle\"if i<=mid else \"poor\" if i<= upper else \"very_poor\" for i in df1['rural_constant_figure']]\n",
    "df1[\"PMT_rural\"].value_counts()"
   ]
  },
  {
   "cell_type": "code",
   "execution_count": null,
   "id": "4f37f1e4",
   "metadata": {},
   "outputs": [],
   "source": [
    "final = []\n",
    "for x,y,z in zip(df1['PMT_rural'],df1['PMT_urban'],df1['weight_status']):\n",
    "    if z==\"Rural\":\n",
    "        final.append(x)\n",
    "    elif z ==\"Urban\":\n",
    "        final.append(y)\n",
    "    else:\n",
    "        final.append(\"##\")\n",
    "df1[\"Target\"] = final   "
   ]
  },
  {
   "cell_type": "markdown",
   "id": "71bb107f",
   "metadata": {},
   "source": [
    "Urban - Kwale, Kilifi, Tana River, Lamu, Taita Taveta. 0 – No. 1 – Yes.\n",
    "\n",
    "Rural - Kitui, Machakos, Makueni, Kakamega, Vihiga, Bungoma, Busia, Siaya, Kisumu, Homa Bay, Migori, Kisii, Nyamira"
   ]
  },
  {
   "cell_type": "code",
   "execution_count": null,
   "id": "7bee8b86",
   "metadata": {},
   "outputs": [],
   "source": [
    "df1['Target'].value_counts()"
   ]
  },
  {
   "cell_type": "code",
   "execution_count": null,
   "id": "e91505f8",
   "metadata": {},
   "outputs": [],
   "source": [
    "df1['weight_status'].value_counts()"
   ]
  },
  {
   "cell_type": "code",
   "execution_count": null,
   "id": "b0c7f05a",
   "metadata": {},
   "outputs": [],
   "source": [
    "df1.columns"
   ]
  },
  {
   "cell_type": "code",
   "execution_count": null,
   "id": "f92e3c7e",
   "metadata": {},
   "outputs": [],
   "source": [
    "# define the final columns\n",
    "df2 = df1.drop([ 'PMT_urban',\n",
    "       'PMT_rural', 'Finalpmt','village_id_y'],axis = 1)"
   ]
  },
  {
   "cell_type": "code",
   "execution_count": null,
   "id": "b8b176ab",
   "metadata": {},
   "outputs": [],
   "source": [
    "df2.columns"
   ]
  },
  {
   "cell_type": "code",
   "execution_count": null,
   "id": "c30de9bc",
   "metadata": {},
   "outputs": [],
   "source": [
    "df2 = df2.rename(columns = {'village_id_x':'village_id'})\n",
    "df2.columns"
   ]
  },
  {
   "cell_type": "code",
   "execution_count": null,
   "id": "049bda05",
   "metadata": {},
   "outputs": [],
   "source": [
    "%%time\n",
    "\n",
    "from sqlalchemy import create_engine\n",
    " \n",
    "engine = create_engine(url=r\"postgresql://{0}:{1}@{2}/{3}\".format(username, password, host, 'PMT_UHC'))\n",
    "\n",
    "# attach the data frame to the sql\n",
    "# with a name of the table\n",
    "# as \"insurance_coverage\" \n",
    "# *this code replaces the existing table everytime, but can be modified to append to the existing data\n",
    "\n",
    "df2.to_sql('pmt_classification', con = engine, if_exists=\"replace\")"
   ]
  },
  {
   "cell_type": "markdown",
   "id": "30a9ef6b",
   "metadata": {},
   "source": [
    "Next steps\n",
    "- using the village name to get geopoints\n",
    "- using the mfl code to geopoints for facilities\n",
    "- Calculate distance from village to facility\n",
    "- dashboarding"
   ]
  },
  {
   "cell_type": "code",
   "execution_count": null,
   "id": "ae33b612",
   "metadata": {},
   "outputs": [],
   "source": []
  }
 ],
 "metadata": {
  "kernelspec": {
   "display_name": "DataScience",
   "language": "python",
   "name": "python3"
  },
  "language_info": {
   "codemirror_mode": {
    "name": "ipython",
    "version": 3
   },
   "file_extension": ".py",
   "mimetype": "text/x-python",
   "name": "python",
   "nbconvert_exporter": "python",
   "pygments_lexer": "ipython3",
   "version": "3.9.12 (main, Apr  4 2022, 05:22:27) [MSC v.1916 64 bit (AMD64)]"
  },
  "vscode": {
   "interpreter": {
    "hash": "89440801d01f3d0d29046faa142b0848e8e5c5dee4c0149c8a8f825a956a2cd0"
   }
  }
 },
 "nbformat": 4,
 "nbformat_minor": 5
}

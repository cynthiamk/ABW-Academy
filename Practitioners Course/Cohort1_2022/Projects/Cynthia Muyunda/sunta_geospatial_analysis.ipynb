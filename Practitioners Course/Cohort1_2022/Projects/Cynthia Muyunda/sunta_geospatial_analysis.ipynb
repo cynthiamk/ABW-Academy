{
  "nbformat": 4,
  "nbformat_minor": 0,
  "metadata": {
    "colab": {
      "provenance": [],
      "authorship_tag": "ABX9TyO8dcfD25MiFR/9jyRfTVuS",
      "include_colab_link": true
    },
    "kernelspec": {
      "name": "python3",
      "display_name": "Python 3"
    },
    "language_info": {
      "name": "python"
    }
  },
  "cells": [
    {
      "cell_type": "markdown",
      "metadata": {
        "id": "view-in-github",
        "colab_type": "text"
      },
      "source": [
        "<a href=\"https://colab.research.google.com/github/cynthiamk/ABW-Academy/blob/main/Practitioners%20Course/Cohort1_2022/Projects/Cynthia%20Muyunda/sunta_geospatial_analysis.ipynb\" target=\"_parent\"><img src=\"https://colab.research.google.com/assets/colab-badge.svg\" alt=\"Open In Colab\"/></a>"
      ]
    },
    {
      "cell_type": "code",
      "execution_count": null,
      "metadata": {
        "id": "LMO-Vob2tKwq"
      },
      "outputs": [],
      "source": []
    }
  ]
}
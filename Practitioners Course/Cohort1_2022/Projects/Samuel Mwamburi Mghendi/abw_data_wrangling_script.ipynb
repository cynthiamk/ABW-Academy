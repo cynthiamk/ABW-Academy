{
  "nbformat": 4,
  "nbformat_minor": 0,
  "metadata": {
    "colab": {
      "provenance": [],
      "include_colab_link": true
    },
    "kernelspec": {
      "name": "python3",
      "display_name": "Python 3"
    },
    "language_info": {
      "name": "python"
    }
  },
  "cells": [
    {
      "cell_type": "markdown",
      "metadata": {
        "id": "view-in-github",
        "colab_type": "text"
      },
      "source": [
        "<a href=\"https://colab.research.google.com/github/mghendi/ABW-Academy/blob/main/Practitioners%20Course/Cohort1_2022/Projects/Samuel%20Mwamburi%20Mghendi/abw_data_wrangling_script.ipynb\" target=\"_parent\"><img src=\"https://colab.research.google.com/assets/colab-badge.svg\" alt=\"Open In Colab\"/></a>"
      ]
    },
    {
      "cell_type": "code",
      "source": [
        "pip install pyshp"
      ],
      "metadata": {
        "colab": {
          "base_uri": "https://localhost:8080/"
        },
        "id": "DnIGGGtRouRk",
        "outputId": "737e2456-0f6e-4bfd-d6ad-44bd819d4835"
      },
      "execution_count": null,
      "outputs": [
        {
          "output_type": "stream",
          "name": "stdout",
          "text": [
            "Looking in indexes: https://pypi.org/simple, https://us-python.pkg.dev/colab-wheels/public/simple/\n",
            "Collecting pyshp\n",
            "  Downloading pyshp-2.3.1-py2.py3-none-any.whl (46 kB)\n",
            "\u001b[K     |████████████████████████████████| 46 kB 2.5 MB/s \n",
            "\u001b[?25hInstalling collected packages: pyshp\n",
            "Successfully installed pyshp-2.3.1\n"
          ]
        }
      ]
    },
    {
      "cell_type": "code",
      "source": [
        "# Import Python libraries\n",
        "import numpy as np\n",
        "import pandas as pd\n",
        "import shapefile as shp\n",
        "import matplotlib.pyplot as plt\n",
        "import seaborn as sns"
      ],
      "metadata": {
        "id": "jK8MmmXcJYUx"
      },
      "execution_count": null,
      "outputs": []
    },
    {
      "cell_type": "code",
      "source": [
        "# Initializing vizualization set\n",
        "\n",
        "sns.set(style='whitegrid', palette='pastel', color_codes=True)\n",
        "sns.mpl.rc('figure', figsize=(10,6))\n",
        "%matplotlib inline"
      ],
      "metadata": {
        "id": "zxWdlshiEUSb"
      },
      "execution_count": null,
      "outputs": []
    },
    {
      "cell_type": "code",
      "source": [
        "# Read Kenya boundary data level 2 shapefile\n",
        "shp_path = '/content/ken_admbnda_adm2_iebc_20191031.shp'\n",
        "sf = shp.Reader(shp_path)\n",
        "\n",
        "# Check the number of different shapes the function imported\n",
        "len(sf.shapes())"
      ],
      "metadata": {
        "colab": {
          "base_uri": "https://localhost:8080/",
          "height": 396
        },
        "id": "NXjde8VnqEuc",
        "outputId": "8acb146e-9635-4ad3-d3c9-986868fb596f"
      },
      "execution_count": null,
      "outputs": [
        {
          "output_type": "error",
          "ename": "ShapefileException",
          "evalue": "ignored",
          "traceback": [
            "\u001b[0;31m---------------------------------------------------------------------------\u001b[0m",
            "\u001b[0;31mShapefileException\u001b[0m                        Traceback (most recent call last)",
            "\u001b[0;32m<ipython-input-4-201475697821>\u001b[0m in \u001b[0;36m<module>\u001b[0;34m\u001b[0m\n\u001b[1;32m      1\u001b[0m \u001b[0;31m# Read Kenya boundary data level 2 shapefile\u001b[0m\u001b[0;34m\u001b[0m\u001b[0;34m\u001b[0m\u001b[0;34m\u001b[0m\u001b[0m\n\u001b[1;32m      2\u001b[0m \u001b[0mshp_path\u001b[0m \u001b[0;34m=\u001b[0m \u001b[0;34m'/content/ken_admbnda_adm2_iebc_20191031.shp'\u001b[0m\u001b[0;34m\u001b[0m\u001b[0;34m\u001b[0m\u001b[0m\n\u001b[0;32m----> 3\u001b[0;31m \u001b[0msf\u001b[0m \u001b[0;34m=\u001b[0m \u001b[0mshp\u001b[0m\u001b[0;34m.\u001b[0m\u001b[0mReader\u001b[0m\u001b[0;34m(\u001b[0m\u001b[0mshp_path\u001b[0m\u001b[0;34m)\u001b[0m\u001b[0;34m\u001b[0m\u001b[0;34m\u001b[0m\u001b[0m\n\u001b[0m\u001b[1;32m      4\u001b[0m \u001b[0;34m\u001b[0m\u001b[0m\n\u001b[1;32m      5\u001b[0m \u001b[0;31m# Check the number of different shapes the function imported\u001b[0m\u001b[0;34m\u001b[0m\u001b[0;34m\u001b[0m\u001b[0;34m\u001b[0m\u001b[0m\n",
            "\u001b[0;32m/usr/local/lib/python3.7/dist-packages/shapefile.py\u001b[0m in \u001b[0;36m__init__\u001b[0;34m(self, *args, **kwargs)\u001b[0m\n\u001b[1;32m   1046\u001b[0m                     \u001b[0;31m# Local file path to a shapefile\u001b[0m\u001b[0;34m\u001b[0m\u001b[0;34m\u001b[0m\u001b[0;34m\u001b[0m\u001b[0m\n\u001b[1;32m   1047\u001b[0m                     \u001b[0;31m# Load and exit early\u001b[0m\u001b[0;34m\u001b[0m\u001b[0;34m\u001b[0m\u001b[0;34m\u001b[0m\u001b[0m\n\u001b[0;32m-> 1048\u001b[0;31m                     \u001b[0mself\u001b[0m\u001b[0;34m.\u001b[0m\u001b[0mload\u001b[0m\u001b[0;34m(\u001b[0m\u001b[0mpath\u001b[0m\u001b[0;34m)\u001b[0m\u001b[0;34m\u001b[0m\u001b[0;34m\u001b[0m\u001b[0m\n\u001b[0m\u001b[1;32m   1049\u001b[0m                     \u001b[0;32mreturn\u001b[0m\u001b[0;34m\u001b[0m\u001b[0;34m\u001b[0m\u001b[0m\n\u001b[1;32m   1050\u001b[0m \u001b[0;34m\u001b[0m\u001b[0m\n",
            "\u001b[0;32m/usr/local/lib/python3.7/dist-packages/shapefile.py\u001b[0m in \u001b[0;36mload\u001b[0;34m(self, shapefile)\u001b[0m\n\u001b[1;32m   1191\u001b[0m             \u001b[0mself\u001b[0m\u001b[0;34m.\u001b[0m\u001b[0mload_dbf\u001b[0m\u001b[0;34m(\u001b[0m\u001b[0mshapeName\u001b[0m\u001b[0;34m)\u001b[0m\u001b[0;34m\u001b[0m\u001b[0;34m\u001b[0m\u001b[0m\n\u001b[1;32m   1192\u001b[0m             \u001b[0;32mif\u001b[0m \u001b[0;32mnot\u001b[0m \u001b[0;34m(\u001b[0m\u001b[0mself\u001b[0m\u001b[0;34m.\u001b[0m\u001b[0mshp\u001b[0m \u001b[0;32mor\u001b[0m \u001b[0mself\u001b[0m\u001b[0;34m.\u001b[0m\u001b[0mdbf\u001b[0m\u001b[0;34m)\u001b[0m\u001b[0;34m:\u001b[0m\u001b[0;34m\u001b[0m\u001b[0;34m\u001b[0m\u001b[0m\n\u001b[0;32m-> 1193\u001b[0;31m                 \u001b[0;32mraise\u001b[0m \u001b[0mShapefileException\u001b[0m\u001b[0;34m(\u001b[0m\u001b[0;34m\"Unable to open %s.dbf or %s.shp.\"\u001b[0m \u001b[0;34m%\u001b[0m \u001b[0;34m(\u001b[0m\u001b[0mshapeName\u001b[0m\u001b[0;34m,\u001b[0m \u001b[0mshapeName\u001b[0m\u001b[0;34m)\u001b[0m\u001b[0;34m)\u001b[0m\u001b[0;34m\u001b[0m\u001b[0;34m\u001b[0m\u001b[0m\n\u001b[0m\u001b[1;32m   1194\u001b[0m         \u001b[0;32mif\u001b[0m \u001b[0mself\u001b[0m\u001b[0;34m.\u001b[0m\u001b[0mshp\u001b[0m\u001b[0;34m:\u001b[0m\u001b[0;34m\u001b[0m\u001b[0;34m\u001b[0m\u001b[0m\n\u001b[1;32m   1195\u001b[0m             \u001b[0mself\u001b[0m\u001b[0;34m.\u001b[0m\u001b[0m__shpHeader\u001b[0m\u001b[0;34m(\u001b[0m\u001b[0;34m)\u001b[0m\u001b[0;34m\u001b[0m\u001b[0;34m\u001b[0m\u001b[0m\n",
            "\u001b[0;31mShapefileException\u001b[0m: Unable to open /content/ken_admbnda_adm2_iebc_20191031.dbf or /content/ken_admbnda_adm2_iebc_20191031.shp."
          ]
        }
      ]
    },
    {
      "cell_type": "code",
      "source": [
        "# Explore a single shape\n",
        "sf.shapes() [1]"
      ],
      "metadata": {
        "colab": {
          "base_uri": "https://localhost:8080/"
        },
        "id": "v2D8hYRQ6rPm",
        "outputId": "e612ce16-c6fa-48c0-e0c0-4c6821c0a49b"
      },
      "execution_count": null,
      "outputs": [
        {
          "output_type": "execute_result",
          "data": {
            "text/plain": [
              "Shape #1: POLYGON"
            ]
          },
          "metadata": {},
          "execution_count": 21
        }
      ]
    },
    {
      "cell_type": "code",
      "source": [
        "# Converting shapefile data on Pandas dataframe\n",
        "def read_shapefile(sf):\n",
        "    \"\"\"\n",
        "    Read a shapefile into a Pandas dataframe with a 'coords' \n",
        "    column holding the geometry information. This uses the pyshp\n",
        "    package\n",
        "    \"\"\"\n",
        "    fields = [x[0] for x in sf.fields][1:]\n",
        "    records = sf.records()\n",
        "    shps = [s.points for s in sf.shapes()]\n",
        "    df = pd.DataFrame(columns=fields, data=records)\n",
        "    df = df.assign(coords=shps)\n",
        "    return df"
      ],
      "metadata": {
        "id": "_yL-H_wC8kMw"
      },
      "execution_count": null,
      "outputs": []
    },
    {
      "cell_type": "code",
      "source": [
        "# Convert shapefile data on a dataframe\n",
        "df = read_shapefile(sf)\n",
        "df.shape"
      ],
      "metadata": {
        "colab": {
          "base_uri": "https://localhost:8080/"
        },
        "id": "mmw093Cy8rEA",
        "outputId": "91118cae-1e02-4988-f9e3-8345d10ea3f2"
      },
      "execution_count": null,
      "outputs": [
        {
          "output_type": "execute_result",
          "data": {
            "text/plain": [
              "(290, 15)"
            ]
          },
          "metadata": {},
          "execution_count": 23
        }
      ]
    },
    {
      "cell_type": "code",
      "source": [
        "# Sample of 5 records\n",
        "df.sample(5)"
      ],
      "metadata": {
        "colab": {
          "base_uri": "https://localhost:8080/",
          "height": 337
        },
        "id": "eUnMhHVx9XKW",
        "outputId": "4bf2b0c8-36a2-48de-fef2-715d02a1ee50"
      },
      "execution_count": null,
      "outputs": [
        {
          "output_type": "execute_result",
          "data": {
            "text/plain": [
              "     Shape_Leng  Shape_Area          ADM2_EN ADM2_PCODE ADM2_REF ADM2ALT1EN  \\\n",
              "208    1.188612    0.056500           Ndhiwa   KE043250                       \n",
              "66     9.287772    1.245064     Isiolo North   KE011049                       \n",
              "88     1.138443    0.060754      Karachuonyo   KE043247                       \n",
              "8      1.332541    0.053758  Baringo Central   KE030159                       \n",
              "91     0.897551    0.016742         Kathiani   KE016079                       \n",
              "\n",
              "    ADM2ALT2EN   ADM1_EN ADM1_PCODE ADM0_EN ADM0_PCODE        date  \\\n",
              "208             Homa Bay      KE043   Kenya         KE  2017-11-03   \n",
              "66                Isiolo      KE011   Kenya         KE  2017-11-03   \n",
              "88              Homa Bay      KE043   Kenya         KE  2017-11-03   \n",
              "8                Baringo      KE030   Kenya         KE  2017-11-03   \n",
              "91              Machakos      KE016   Kenya         KE  2017-11-03   \n",
              "\n",
              "        validOn ValidTo                                             coords  \n",
              "208  2019-10-31    None  [(34.42476589900008, -0.5854039369999668), (34...  \n",
              "66   2019-10-31    None  [(38.08049410000007, 0.7837505580000652), (38....  \n",
              "88   2019-10-31    None  [(34.760495322000054, -0.3117918709999685), (3...  \n",
              "8    2019-10-31    None  [(35.83493520300004, 0.5964099250000459), (35....  \n",
              "91   2019-10-31    None  [(37.24706840500005, -1.2949020259999315), (37...  "
            ],
            "text/html": [
              "\n",
              "  <div id=\"df-71061d4d-21e7-4e02-a69c-86c018dab644\">\n",
              "    <div class=\"colab-df-container\">\n",
              "      <div>\n",
              "<style scoped>\n",
              "    .dataframe tbody tr th:only-of-type {\n",
              "        vertical-align: middle;\n",
              "    }\n",
              "\n",
              "    .dataframe tbody tr th {\n",
              "        vertical-align: top;\n",
              "    }\n",
              "\n",
              "    .dataframe thead th {\n",
              "        text-align: right;\n",
              "    }\n",
              "</style>\n",
              "<table border=\"1\" class=\"dataframe\">\n",
              "  <thead>\n",
              "    <tr style=\"text-align: right;\">\n",
              "      <th></th>\n",
              "      <th>Shape_Leng</th>\n",
              "      <th>Shape_Area</th>\n",
              "      <th>ADM2_EN</th>\n",
              "      <th>ADM2_PCODE</th>\n",
              "      <th>ADM2_REF</th>\n",
              "      <th>ADM2ALT1EN</th>\n",
              "      <th>ADM2ALT2EN</th>\n",
              "      <th>ADM1_EN</th>\n",
              "      <th>ADM1_PCODE</th>\n",
              "      <th>ADM0_EN</th>\n",
              "      <th>ADM0_PCODE</th>\n",
              "      <th>date</th>\n",
              "      <th>validOn</th>\n",
              "      <th>ValidTo</th>\n",
              "      <th>coords</th>\n",
              "    </tr>\n",
              "  </thead>\n",
              "  <tbody>\n",
              "    <tr>\n",
              "      <th>208</th>\n",
              "      <td>1.188612</td>\n",
              "      <td>0.056500</td>\n",
              "      <td>Ndhiwa</td>\n",
              "      <td>KE043250</td>\n",
              "      <td></td>\n",
              "      <td></td>\n",
              "      <td></td>\n",
              "      <td>Homa Bay</td>\n",
              "      <td>KE043</td>\n",
              "      <td>Kenya</td>\n",
              "      <td>KE</td>\n",
              "      <td>2017-11-03</td>\n",
              "      <td>2019-10-31</td>\n",
              "      <td>None</td>\n",
              "      <td>[(34.42476589900008, -0.5854039369999668), (34...</td>\n",
              "    </tr>\n",
              "    <tr>\n",
              "      <th>66</th>\n",
              "      <td>9.287772</td>\n",
              "      <td>1.245064</td>\n",
              "      <td>Isiolo North</td>\n",
              "      <td>KE011049</td>\n",
              "      <td></td>\n",
              "      <td></td>\n",
              "      <td></td>\n",
              "      <td>Isiolo</td>\n",
              "      <td>KE011</td>\n",
              "      <td>Kenya</td>\n",
              "      <td>KE</td>\n",
              "      <td>2017-11-03</td>\n",
              "      <td>2019-10-31</td>\n",
              "      <td>None</td>\n",
              "      <td>[(38.08049410000007, 0.7837505580000652), (38....</td>\n",
              "    </tr>\n",
              "    <tr>\n",
              "      <th>88</th>\n",
              "      <td>1.138443</td>\n",
              "      <td>0.060754</td>\n",
              "      <td>Karachuonyo</td>\n",
              "      <td>KE043247</td>\n",
              "      <td></td>\n",
              "      <td></td>\n",
              "      <td></td>\n",
              "      <td>Homa Bay</td>\n",
              "      <td>KE043</td>\n",
              "      <td>Kenya</td>\n",
              "      <td>KE</td>\n",
              "      <td>2017-11-03</td>\n",
              "      <td>2019-10-31</td>\n",
              "      <td>None</td>\n",
              "      <td>[(34.760495322000054, -0.3117918709999685), (3...</td>\n",
              "    </tr>\n",
              "    <tr>\n",
              "      <th>8</th>\n",
              "      <td>1.332541</td>\n",
              "      <td>0.053758</td>\n",
              "      <td>Baringo Central</td>\n",
              "      <td>KE030159</td>\n",
              "      <td></td>\n",
              "      <td></td>\n",
              "      <td></td>\n",
              "      <td>Baringo</td>\n",
              "      <td>KE030</td>\n",
              "      <td>Kenya</td>\n",
              "      <td>KE</td>\n",
              "      <td>2017-11-03</td>\n",
              "      <td>2019-10-31</td>\n",
              "      <td>None</td>\n",
              "      <td>[(35.83493520300004, 0.5964099250000459), (35....</td>\n",
              "    </tr>\n",
              "    <tr>\n",
              "      <th>91</th>\n",
              "      <td>0.897551</td>\n",
              "      <td>0.016742</td>\n",
              "      <td>Kathiani</td>\n",
              "      <td>KE016079</td>\n",
              "      <td></td>\n",
              "      <td></td>\n",
              "      <td></td>\n",
              "      <td>Machakos</td>\n",
              "      <td>KE016</td>\n",
              "      <td>Kenya</td>\n",
              "      <td>KE</td>\n",
              "      <td>2017-11-03</td>\n",
              "      <td>2019-10-31</td>\n",
              "      <td>None</td>\n",
              "      <td>[(37.24706840500005, -1.2949020259999315), (37...</td>\n",
              "    </tr>\n",
              "  </tbody>\n",
              "</table>\n",
              "</div>\n",
              "      <button class=\"colab-df-convert\" onclick=\"convertToInteractive('df-71061d4d-21e7-4e02-a69c-86c018dab644')\"\n",
              "              title=\"Convert this dataframe to an interactive table.\"\n",
              "              style=\"display:none;\">\n",
              "        \n",
              "  <svg xmlns=\"http://www.w3.org/2000/svg\" height=\"24px\"viewBox=\"0 0 24 24\"\n",
              "       width=\"24px\">\n",
              "    <path d=\"M0 0h24v24H0V0z\" fill=\"none\"/>\n",
              "    <path d=\"M18.56 5.44l.94 2.06.94-2.06 2.06-.94-2.06-.94-.94-2.06-.94 2.06-2.06.94zm-11 1L8.5 8.5l.94-2.06 2.06-.94-2.06-.94L8.5 2.5l-.94 2.06-2.06.94zm10 10l.94 2.06.94-2.06 2.06-.94-2.06-.94-.94-2.06-.94 2.06-2.06.94z\"/><path d=\"M17.41 7.96l-1.37-1.37c-.4-.4-.92-.59-1.43-.59-.52 0-1.04.2-1.43.59L10.3 9.45l-7.72 7.72c-.78.78-.78 2.05 0 2.83L4 21.41c.39.39.9.59 1.41.59.51 0 1.02-.2 1.41-.59l7.78-7.78 2.81-2.81c.8-.78.8-2.07 0-2.86zM5.41 20L4 18.59l7.72-7.72 1.47 1.35L5.41 20z\"/>\n",
              "  </svg>\n",
              "      </button>\n",
              "      \n",
              "  <style>\n",
              "    .colab-df-container {\n",
              "      display:flex;\n",
              "      flex-wrap:wrap;\n",
              "      gap: 12px;\n",
              "    }\n",
              "\n",
              "    .colab-df-convert {\n",
              "      background-color: #E8F0FE;\n",
              "      border: none;\n",
              "      border-radius: 50%;\n",
              "      cursor: pointer;\n",
              "      display: none;\n",
              "      fill: #1967D2;\n",
              "      height: 32px;\n",
              "      padding: 0 0 0 0;\n",
              "      width: 32px;\n",
              "    }\n",
              "\n",
              "    .colab-df-convert:hover {\n",
              "      background-color: #E2EBFA;\n",
              "      box-shadow: 0px 1px 2px rgba(60, 64, 67, 0.3), 0px 1px 3px 1px rgba(60, 64, 67, 0.15);\n",
              "      fill: #174EA6;\n",
              "    }\n",
              "\n",
              "    [theme=dark] .colab-df-convert {\n",
              "      background-color: #3B4455;\n",
              "      fill: #D2E3FC;\n",
              "    }\n",
              "\n",
              "    [theme=dark] .colab-df-convert:hover {\n",
              "      background-color: #434B5C;\n",
              "      box-shadow: 0px 1px 3px 1px rgba(0, 0, 0, 0.15);\n",
              "      filter: drop-shadow(0px 1px 2px rgba(0, 0, 0, 0.3));\n",
              "      fill: #FFFFFF;\n",
              "    }\n",
              "  </style>\n",
              "\n",
              "      <script>\n",
              "        const buttonEl =\n",
              "          document.querySelector('#df-71061d4d-21e7-4e02-a69c-86c018dab644 button.colab-df-convert');\n",
              "        buttonEl.style.display =\n",
              "          google.colab.kernel.accessAllowed ? 'block' : 'none';\n",
              "\n",
              "        async function convertToInteractive(key) {\n",
              "          const element = document.querySelector('#df-71061d4d-21e7-4e02-a69c-86c018dab644');\n",
              "          const dataTable =\n",
              "            await google.colab.kernel.invokeFunction('convertToInteractive',\n",
              "                                                     [key], {});\n",
              "          if (!dataTable) return;\n",
              "\n",
              "          const docLinkHtml = 'Like what you see? Visit the ' +\n",
              "            '<a target=\"_blank\" href=https://colab.research.google.com/notebooks/data_table.ipynb>data table notebook</a>'\n",
              "            + ' to learn more about interactive tables.';\n",
              "          element.innerHTML = '';\n",
              "          dataTable['output_type'] = 'display_data';\n",
              "          await google.colab.output.renderOutput(dataTable, element);\n",
              "          const docLink = document.createElement('div');\n",
              "          docLink.innerHTML = docLinkHtml;\n",
              "          element.appendChild(docLink);\n",
              "        }\n",
              "      </script>\n",
              "    </div>\n",
              "  </div>\n",
              "  "
            ]
          },
          "metadata": {},
          "execution_count": 25
        }
      ]
    },
    {
      "cell_type": "code",
      "source": [
        "# Define MatPlotLib function for plotting shapes\n",
        "def plot_shape(id, s=None):\n",
        "    \"\"\" PLOTS A SINGLE SHAPE \"\"\"\n",
        "    plt.figure()\n",
        "    ax = plt.axes()\n",
        "    ax.set_aspect('equal')\n",
        "    shape_ex = sf.shape(id)\n",
        "    x_lon = np.zeros((len(shape_ex.points),1))\n",
        "    y_lat = np.zeros((len(shape_ex.points),1))\n",
        "    for ip in range(len(shape_ex.points)):\n",
        "        x_lon[ip] = shape_ex.points[ip][0]\n",
        "        y_lat[ip] = shape_ex.points[ip][1]\n",
        "    plt.plot(x_lon,y_lat) \n",
        "    x0 = np.mean(x_lon)\n",
        "    y0 = np.mean(y_lat)\n",
        "    plt.text(x0, y0, s, fontsize=10)\n",
        "    # use bbox (bounding box) to set plot limits\n",
        "    plt.xlim(shape_ex.bbox[0],shape_ex.bbox[2])\n",
        "    return x0, y0"
      ],
      "metadata": {
        "id": "URy4YEeV9dgS"
      },
      "execution_count": null,
      "outputs": []
    }
  ]
}